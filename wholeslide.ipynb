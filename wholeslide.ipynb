{
 "cells": [
  {
   "cell_type": "code",
   "execution_count": 1,
   "metadata": {},
   "outputs": [],
   "source": [
    "import numpy as np\n",
    "import slideio\n",
    "import cv2\n",
    "import json\n",
    "import matplotlib.path as mpltPath\n",
    "import os\n",
    "import warnings\n",
    "import tifffile\n",
    "from skimage import exposure\n",
    "from skimage.exposure import match_histograms\n",
    "import xml.etree.ElementTree as ET\n",
    "import pandas as pd\n",
    "from PIL import Image\n",
    "from math import sqrt\n",
    "import matplotlib.pyplot as plt\n",
    "from glob import glob\n",
    "from copy import copy\n",
    "from tqdm.notebook import tqdm\n",
    "import warnings\n",
    "import staintools\n",
    "\n",
    "# 경고 메시지를 무시하도록 설정s\n",
    "warnings.filterwarnings(\"ignore\")"
   ]
  },
  {
   "cell_type": "code",
   "execution_count": null,
   "metadata": {},
   "outputs": [],
   "source": [
    "MMRstatus_data=pd.read_csv('../../data/OriginalData/P53&MMR.csv',encoding='cp949')\n",
    "def svsToTiff(imageCount):\n",
    "    global svsWidth,svsHeight,path,scene,fileName\n",
    "    slide_tile_size=4096\n",
    "    for widthCount in range(0, int(svsWidth // slide_tile_size)):\n",
    "        for heightCount in range(0, int(svsHeight // slide_tile_size)):\n",
    "            points = np.array([path.contains_point(np.array([widthCount* slide_tile_size, heightCount* slide_tile_size])), path.contains_point(np.array([widthCount* slide_tile_size, (heightCount+1)* slide_tile_size])), \n",
    "                                 path.contains_point(np.array([(widthCount+1)* slide_tile_size, heightCount* slide_tile_size])),\n",
    "                                path.contains_point(np.array([(widthCount+1)* slide_tile_size, (heightCount+1)* slide_tile_size]))])\n",
    "            inside = np.mean(points)>=0.5\n",
    "            Full=np.mean(points)>=0\n",
    "            if (inside):\n",
    "                image = scene.read_block((widthCount * slide_tile_size, heightCount * slide_tile_size, slide_tile_size, slide_tile_size),size=(1024,1024))\n",
    "                if np.where(image[:,:,1]>=230)[0].shape[0]<(1024*1024)/4:\n",
    "                    TiffImageSave(image, fileName, imageCount,slide_tile_size)\n",
    "                    imageCount += 1\n",
    "            \n",
    "    return imageCount\n",
    "def TiffImageSave(image1,fileName,imageCount,slide_tile_size):\n",
    "    global normalizer2x,normalizer5x,normalizer10x,tmp_img\n",
    "    img=Image.fromarray(image1) \n",
    "    img.save('../../data/ensemble/'+fileName+'_'+str(imageCount)+'.jpg')\n",
    "def createDirectory(directory):\n",
    "    try:\n",
    "        if not os.path.exists(directory):\n",
    "            os.makedirs(directory)\n",
    "    except OSError:\n",
    "        print(\"Error: Failed to create the directory.\")    \n",
    "      "
   ]
  }
 ],
 "metadata": {
  "kernelspec": {
   "display_name": "LeeYS",
   "language": "python",
   "name": "python3"
  },
  "language_info": {
   "codemirror_mode": {
    "name": "ipython",
    "version": 3
   },
   "file_extension": ".py",
   "mimetype": "text/x-python",
   "name": "python",
   "nbconvert_exporter": "python",
   "pygments_lexer": "ipython3",
   "version": "3.9.0"
  },
  "orig_nbformat": 4
 },
 "nbformat": 4,
 "nbformat_minor": 2
}
