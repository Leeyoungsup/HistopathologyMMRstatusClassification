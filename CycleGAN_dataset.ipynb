{
 "cells": [
  {
   "cell_type": "code",
   "execution_count": 2,
   "metadata": {},
   "outputs": [],
   "source": [
    "import os\n",
    "from glob import glob\n",
    "import random\n",
    "import shutil\n",
    "import staintools\n",
    "from PIL import Image\n",
    "import numpy as np\n",
    "import cv2\n",
    "import spams"
   ]
  },
  {
   "cell_type": "code",
   "execution_count": 13,
   "metadata": {},
   "outputs": [],
   "source": [
    "img_2x_list=glob('../../data/OriginalTile/2.5x/*.jpg')\n",
    "img_5x_list=glob('../../data/OriginalTile/5x/*.jpg')\n",
    "img_10x_list=glob('../../data/OriginalTile/10x/*.jpg')\n",
    "stdard_img_2x_list=glob('../../data/CycleGANData/3divisionTile/2.5x_standard/*.jpg')\n",
    "stdard_img_5x_list=glob('../../data/CycleGANData/3divisionTile/5x_standard/*.jpg')\n",
    "stdard_img_10x_list=glob('../../data/CycleGANData/3divisionTile/10x_standard/*.jpg')"
   ]
  },
  {
   "cell_type": "code",
   "execution_count": 14,
   "metadata": {},
   "outputs": [],
   "source": [
    "x2_list=[]\n",
    "\n",
    "for k in range(len(stdard_img_2x_list)):\n",
    "    a = random.randint(0,len(img_2x_list))       \n",
    "    while a in x2_list :              # a가 이미 뽑은 리스트에 있을 때까지 다시 뽑자\n",
    "        a = random.randint(0,len(img_2x_list))\n",
    "    x2_list.append(a) # 새로운 a 값을 리스트에 추가\n",
    "    \n",
    "x5_list=[]\n",
    "\n",
    "for k in range(len(stdard_img_5x_list)):\n",
    "    a = random.randint(0,len(img_5x_list))       \n",
    "    while a in x5_list :              # a가 이미 뽑은 리스트에 있을 때까지 다시 뽑자\n",
    "        a = random.randint(0,len(img_5x_list))\n",
    "    x5_list.append(a) # 새로운 a 값을 리스트에 추가\n",
    "\n",
    "x10_list=[]\n",
    "\n",
    "for k in range(len(stdard_img_10x_list)):\n",
    "    a = random.randint(0,len(img_10x_list))       \n",
    "    while a in x10_list :              # a가 이미 뽑은 리스트에 있을 때까지 다시 뽑자\n",
    "        a = random.randint(0,len(img_10x_list))\n",
    "    x10_list.append(a) # 새로운 a 값을 리스트에 추가"
   ]
  },
  {
   "cell_type": "code",
   "execution_count": 15,
   "metadata": {},
   "outputs": [],
   "source": [
    "for i in range(len(x2_list)):\n",
    "    source=img_2x_list[x2_list[i]]\n",
    "    destination=\"../../data/CycleGANData/3divisionTile/2.5x_Notstandard/\"+str(i)+'.jpg'\n",
    "    shutil.copyfile(source, destination)\n",
    "    \n",
    "for i in range(len(x5_list)):\n",
    "    source=img_5x_list[x5_list[i]]\n",
    "    destination=\"../../data/CycleGANData/3divisionTile/5x_Notstandard/\"+str(i)+'.jpg'\n",
    "    shutil.copyfile(source, destination)\n",
    "    \n",
    "for i in range(len(x10_list)):\n",
    "    source=img_10x_list[x10_list[i]]\n",
    "    destination=\"../../data/CycleGANData/3divisionTile/10x_Notstandard/\"+str(i)+'.jpg'\n",
    "    shutil.copyfile(source, destination)"
   ]
  },
  {
   "cell_type": "code",
   "execution_count": 3,
   "metadata": {},
   "outputs": [],
   "source": [
    "img_whole_list=glob('../../data/CycleGANData/wholeslide/image/*.tiff')\n",
    "\n",
    "stdard_img_whole_list=glob('../../data/CycleGANData/wholeslide/Cimage/*.tiff')"
   ]
  },
  {
   "cell_type": "code",
   "execution_count": 4,
   "metadata": {},
   "outputs": [],
   "source": [
    "x_list=[]\n",
    "\n",
    "for k in range(len(stdard_img_whole_list)):\n",
    "    a = random.randint(0,len(img_whole_list))       \n",
    "    while a in x_list :              # a가 이미 뽑은 리스트에 있을 때까지 다시 뽑자\n",
    "        a = random.randint(0,len(img_whole_list))\n",
    "    x_list.append(a) # 새로운 a 값을 리스트에 추가"
   ]
  },
  {
   "cell_type": "code",
   "execution_count": 5,
   "metadata": {},
   "outputs": [],
   "source": [
    "for i in range(len(x_list)):\n",
    "    source=img_whole_list[x_list[i]]\n",
    "    destination=\"../../data/CycleGANData/wholeslide/notstandard/\"+str(i)+'.tiff'\n",
    "    shutil.copyfile(source, destination)"
   ]
  }
 ],
 "metadata": {
  "kernelspec": {
   "display_name": "LeeYS_torch",
   "language": "python",
   "name": "python3"
  },
  "language_info": {
   "codemirror_mode": {
    "name": "ipython",
    "version": 3
   },
   "file_extension": ".py",
   "mimetype": "text/x-python",
   "name": "python",
   "nbconvert_exporter": "python",
   "pygments_lexer": "ipython3",
   "version": "3.9.0"
  },
  "orig_nbformat": 4
 },
 "nbformat": 4,
 "nbformat_minor": 2
}
