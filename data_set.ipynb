{
 "cells": [
  {
   "cell_type": "markdown",
   "metadata": {},
   "source": [
    "구현 초기 설정"
   ]
  },
  {
   "cell_type": "code",
   "execution_count": 1,
   "metadata": {},
   "outputs": [],
   "source": [
    "#패키지 import\n",
    "from glob import glob\n",
    "import os\n"
   ]
  },
  {
   "cell_type": "code",
   "execution_count": 26,
   "metadata": {},
   "outputs": [],
   "source": [
    "svs_list=glob('../../data/OriginalData/svs/*.svs')\n",
    "xml_list=glob('../../data/OriginalData/xml/*.xml')\n",
    "svs_file_list=[]\n",
    "xml_file_list=[]\n",
    "\n",
    "for i in range(len(svs_list)):\n",
    "    \n",
    "    svs_file_list.append(os.path.splitext(os.path.basename(svs_list[i]))[0])\n",
    "for i in range(len(xml_list)):\n",
    "    \n",
    "    xml_file_list.append(os.path.splitext(os.path.basename(xml_list[i]))[0])"
   ]
  },
  {
   "cell_type": "code",
   "execution_count": 29,
   "metadata": {},
   "outputs": [
    {
     "data": {
      "text/plain": [
       "[]"
      ]
     },
     "execution_count": 29,
     "metadata": {},
     "output_type": "execute_result"
    }
   ],
   "source": [
    "xml_remove_list=list(set(xml_file_list)-set(svs_file_list))\n",
    "xml_remove_list"
   ]
  },
  {
   "cell_type": "code",
   "execution_count": 25,
   "metadata": {},
   "outputs": [],
   "source": [
    "for i in range(len(xml_remove_list)):\n",
    "    os.remove(xml_list[xml_file_list.index(xml_remove_list[i])])"
   ]
  },
  {
   "cell_type": "code",
   "execution_count": 24,
   "metadata": {},
   "outputs": [
    {
     "data": {
      "text/plain": [
       "'../../data/OriginalData/xml/S14-17992-28.xml'"
      ]
     },
     "execution_count": 24,
     "metadata": {},
     "output_type": "execute_result"
    }
   ],
   "source": [
    "xml_list[322]"
   ]
  }
 ],
 "metadata": {
  "kernelspec": {
   "display_name": "LeeYS",
   "language": "python",
   "name": "python3"
  },
  "language_info": {
   "codemirror_mode": {
    "name": "ipython",
    "version": 3
   },
   "file_extension": ".py",
   "mimetype": "text/x-python",
   "name": "python",
   "nbconvert_exporter": "python",
   "pygments_lexer": "ipython3",
   "version": "3.9.0"
  },
  "orig_nbformat": 4
 },
 "nbformat": 4,
 "nbformat_minor": 2
}
