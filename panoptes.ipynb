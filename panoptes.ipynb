{
 "cells": [
  {
   "cell_type": "code",
   "execution_count": 1,
   "metadata": {},
   "outputs": [],
   "source": [
    "import os\n",
    "import torchvision.models as models \n",
    "import torch.nn as nn\n",
    "import torch\n",
    "import pandas as pd\n",
    "from torchvision.io import read_image\n",
    "import torch\n",
    "from torch.utils.data import Dataset, DataLoader, random_split\n",
    "from torchvision import datasets\n",
    "from torchvision.transforms import ToTensor\n",
    "import matplotlib.pyplot as plt\n",
    "import torchvision\n",
    "from glob import glob\n",
    "import numpy as np\n",
    "import torch.functional as F\n",
    "from efficientnet_pytorch_3d import EfficientNet3D\n",
    "from efficientnet_pytorch import EfficientNet\n",
    "import torchvision.transforms as T\n",
    "from tqdm import tqdm_notebook\n",
    "device0 = torch.device(\"cuda:0\" if torch.cuda.is_available() else \"cpu\")\n"
   ]
  },
  {
   "cell_type": "markdown",
   "metadata": {},
   "source": [
    "데이터셋"
   ]
  },
  {
   "cell_type": "code",
   "execution_count": 2,
   "metadata": {},
   "outputs": [],
   "source": [
    "class CustomImageDataset(Dataset):\n",
    "    def __init__(self, annotations_file, img_glob, transform=None, target_transform=None):\n",
    "        self.img_labels = pd.read_csv(annotations_file)\n",
    "        self.img_list = glob(img_glob)\n",
    "        self.transform = transform\n",
    "        self.target_transform = target_transform\n",
    "        self.file_name_list=[]\n",
    "        self.file_remove_list=[]\n",
    "        self.label_list=[]\n",
    "        \n",
    "        for i in range(len(self.img_list)):\n",
    "            self.file_name_list.append(os.path.splitext(os.path.basename(self.img_list[i]))[0][:9])\n",
    "\n",
    "        for i in range(len(self.file_name_list)):\n",
    "            label_index=self.img_labels.loc[self.img_labels['PathologyNumber'] == self.file_name_list[i]]\n",
    "            if len(label_index)==0:\n",
    "                self.file_remove_list.append(self.img_list[i])\n",
    "            else:\n",
    "                if label_index['MMR status'].to_list()[0]=='Normal':\n",
    "                    self.label_list.append(0)\n",
    "                else:\n",
    "                    self.label_list.append(1)\n",
    "        for i in range(len(self.file_remove_list)):\n",
    "            self.img_list.remove(self.file_remove_list[i])\n",
    "        self.image_x5=[f.replace('/2.5x_standard', '/5x_standard') for f in self.img_list]\n",
    "        self.image_x10=[f.replace('/2.5x_standard', '/10x_standard') for f in self.img_list]\n",
    "        img_5x_temp=[]\n",
    "        img_10x_temp=[]\n",
    "        for i in range(len(self.img_list)):\n",
    "            for j in range(4):\n",
    "                img_5x_temp.append(self.image_x5[i][:-4]+'_'+str(j)+'.jpg')\n",
    "            for j in range(16):\n",
    "                img_10x_temp.append(self.image_x10[i][:-4]+'_'+str(j)+'.jpg')\n",
    "            self.image_x5[i]=img_5x_temp\n",
    "            self.image_x10[i]=img_10x_temp\n",
    "        self.transform = T.Resize(224)\n",
    "    def __len__(self):\n",
    "        return len(self.img_list)\n",
    "\n",
    "    def __getitem__(self, idx):\n",
    "        image = (1-self.transform(read_image(self.img_list[idx])))/255\n",
    "        label = self.label_list[idx]\n",
    "        image_5x=torch.zeros(4,3,224,224)\n",
    "        image_10x=torch.zeros(16,3,224,224)\n",
    "        for i in range(4):\n",
    "            image_5x[i]=self.transform(read_image(self.image_x5[idx][i]))\n",
    "        for i in range(16):\n",
    "            image_10x[i]=self.transform(read_image(self.image_x10[idx][i]))\n",
    "        image_5x=np.transpose(1-image_5x, axes=(1, 0, 2,3))/255\n",
    "        image_10x=np.transpose(1-image_10x, axes=(1, 0, 2,3))/255\n",
    "        image_5x=torch.reshape(1-image_5x,(3*4,224,224))\n",
    "        image_10x=torch.reshape(1-image_10x,(16*3,224,224))\n",
    "        \n",
    "        return image,image_5x,image_10x,label"
   ]
  },
  {
   "cell_type": "code",
   "execution_count": 3,
   "metadata": {},
   "outputs": [],
   "source": [
    "img_glob='../../data/CycleGANData/3divisionTile/2.5x_standard/*.jpg'\n",
    "annotations_file='../../data/OriginalData/MMR.csv'\n",
    "dataset=CustomImageDataset(annotations_file,img_glob)\n",
    "dataset_size = len(dataset)\n",
    "train_size = int(dataset_size * 0.8)\n",
    "validation_size = int(dataset_size * 0.1)\n",
    "test_size = dataset_size - train_size - validation_size\n",
    "train_dataset, validation_dataset, test_dataset = random_split(dataset, [train_size, validation_size, test_size])\n",
    "train_dataloader = DataLoader(train_dataset, batch_size=64, shuffle=True, drop_last=True)\n",
    "validation_dataloader = DataLoader(validation_dataset, batch_size=16, shuffle=True, drop_last=True)\n",
    "test_dataloader = DataLoader(test_dataset, batch_size=16, shuffle=True, drop_last=True)"
   ]
  },
  {
   "cell_type": "markdown",
   "metadata": {},
   "source": [
    "Panoptes"
   ]
  },
  {
   "cell_type": "code",
   "execution_count": 4,
   "metadata": {},
   "outputs": [],
   "source": [
    "class Panoptes(nn.Module):\n",
    "    def __init__(self):\n",
    "        super().__init__()\n",
    "        self.model_25x=EfficientNet.from_name('efficientnet-b2', in_channels=3).to(device0)\n",
    "        self.model_5x=EfficientNet.from_name('efficientnet-b2', in_channels=3*4).to(device0)\n",
    "        self.model_10x=EfficientNet.from_name('efficientnet-b2', in_channels=3*16).to(device0)\n",
    "        self.relu = nn.ReLU()\n",
    "        self.fc1 = nn.Linear(3000, 300).to(device0)\n",
    "        self.fc2 = nn.Linear(300, 30).to(device0)\n",
    "        self.fc3 = nn.Linear(30, 1).to(device0)\n",
    "        self.cat1=torch.cat\n",
    "        self.cat2=torch.cat\n",
    "        self.sig = nn.Sigmoid()\n",
    "    def forward(self, x25,x5,x10):\n",
    "        x25 = self.model_25x(x25).to(device0)\n",
    "        x5 = self.model_5x(x5).to(device0)\n",
    "        x10 = self.model_10x(x10).to(device0)\n",
    "        x = self.cat1((x25, x5), dim=1).to(device0)\n",
    "        x = self.cat2((x, x10), dim=1).to(device0)\n",
    "        x = self.relu(self.fc1(x).to(device0))\n",
    "        x = self.relu(self.fc2(x).to(device0))\n",
    "        x = self.fc3(x).to(device0)\n",
    "        return x\n",
    "    \n",
    "model = Panoptes().to(device0)\n",
    "criterion = nn.BCEWithLogitsLoss().to(device0)\n",
    "optimizer = torch.optim.Adam(model.parameters(), lr=0.0001)"
   ]
  },
  {
   "cell_type": "markdown",
   "metadata": {},
   "source": [
    "Train"
   ]
  },
  {
   "cell_type": "code",
   "execution_count": 5,
   "metadata": {},
   "outputs": [
    {
     "name": "stderr",
     "output_type": "stream",
     "text": [
      "/tmp/ipykernel_2122576/1752753498.py:5: TqdmDeprecationWarning: This function will be removed in tqdm==5.0.0\n",
      "Please use `tqdm.notebook.tqdm` instead of `tqdm.tqdm_notebook`\n",
      "  train=tqdm_notebook(train_dataloader)\n"
     ]
    },
    {
     "data": {
      "application/vnd.jupyter.widget-view+json": {
       "model_id": "15d3d15fd2de486791a3c1771388beea",
       "version_major": 2,
       "version_minor": 0
      },
      "text/plain": [
       "  0%|          | 0/980 [00:00<?, ?it/s]"
      ]
     },
     "metadata": {},
     "output_type": "display_data"
    },
    {
     "name": "stderr",
     "output_type": "stream",
     "text": [
      "/home/gil/anaconda3/envs/LeeYS/lib/python3.9/site-packages/torchvision/transforms/functional.py:1603: UserWarning: The default value of the antialias parameter of all the resizing transforms (Resize(), RandomResizedCrop(), etc.) will change from None to True in v0.17, in order to be consistent across the PIL and Tensor backends. To suppress this warning, directly pass antialias=True (recommended, future default), antialias=None (current default, which means False for Tensors and True for PIL), or antialias=False (only works on Tensors - PIL will still use antialiasing). This also applies if you are using the inference transforms from the models weights: update the call to weights.transforms(antialias=True).\n",
      "  warnings.warn(\n",
      "/tmp/ipykernel_2122576/1752753498.py:42: TqdmDeprecationWarning: This function will be removed in tqdm==5.0.0\n",
      "Please use `tqdm.notebook.tqdm` instead of `tqdm.tqdm_notebook`\n",
      "  val=tqdm_notebook(validation_dataloader)\n"
     ]
    },
    {
     "data": {
      "application/vnd.jupyter.widget-view+json": {
       "model_id": "2102d9c90ff5483cb02776ec07d330ee",
       "version_major": 2,
       "version_minor": 0
      },
      "text/plain": [
       "  0%|          | 0/490 [00:00<?, ?it/s]"
      ]
     },
     "metadata": {},
     "output_type": "display_data"
    },
    {
     "data": {
      "application/vnd.jupyter.widget-view+json": {
       "model_id": "84206191a9b9403689d6c2072007973b",
       "version_major": 2,
       "version_minor": 0
      },
      "text/plain": [
       "  0%|          | 0/980 [00:00<?, ?it/s]"
      ]
     },
     "metadata": {},
     "output_type": "display_data"
    },
    {
     "data": {
      "application/vnd.jupyter.widget-view+json": {
       "model_id": "eb97d81683084012a7ff208596849c64",
       "version_major": 2,
       "version_minor": 0
      },
      "text/plain": [
       "  0%|          | 0/490 [00:00<?, ?it/s]"
      ]
     },
     "metadata": {},
     "output_type": "display_data"
    },
    {
     "data": {
      "application/vnd.jupyter.widget-view+json": {
       "model_id": "b7118c3a8181441eb5bcd1b5fa187954",
       "version_major": 2,
       "version_minor": 0
      },
      "text/plain": [
       "  0%|          | 0/980 [00:00<?, ?it/s]"
      ]
     },
     "metadata": {},
     "output_type": "display_data"
    },
    {
     "data": {
      "application/vnd.jupyter.widget-view+json": {
       "model_id": "cd32d7a4bc5e4fc4b3f33d1189a8d76d",
       "version_major": 2,
       "version_minor": 0
      },
      "text/plain": [
       "  0%|          | 0/490 [00:00<?, ?it/s]"
      ]
     },
     "metadata": {},
     "output_type": "display_data"
    },
    {
     "data": {
      "application/vnd.jupyter.widget-view+json": {
       "model_id": "405f4258d45b46b9a248c577fd60b876",
       "version_major": 2,
       "version_minor": 0
      },
      "text/plain": [
       "  0%|          | 0/980 [00:00<?, ?it/s]"
      ]
     },
     "metadata": {},
     "output_type": "display_data"
    },
    {
     "data": {
      "application/vnd.jupyter.widget-view+json": {
       "model_id": "2b268cc8c9bb4ebba821762ddb74deef",
       "version_major": 2,
       "version_minor": 0
      },
      "text/plain": [
       "  0%|          | 0/490 [00:00<?, ?it/s]"
      ]
     },
     "metadata": {},
     "output_type": "display_data"
    },
    {
     "data": {
      "application/vnd.jupyter.widget-view+json": {
       "model_id": "7dbb6a8e36bb41c9a87bcfc70f316b17",
       "version_major": 2,
       "version_minor": 0
      },
      "text/plain": [
       "  0%|          | 0/980 [00:00<?, ?it/s]"
      ]
     },
     "metadata": {},
     "output_type": "display_data"
    },
    {
     "data": {
      "application/vnd.jupyter.widget-view+json": {
       "model_id": "cf0f39aab3f74ee9a360e6ec5f94279d",
       "version_major": 2,
       "version_minor": 0
      },
      "text/plain": [
       "  0%|          | 0/490 [00:00<?, ?it/s]"
      ]
     },
     "metadata": {},
     "output_type": "display_data"
    },
    {
     "data": {
      "application/vnd.jupyter.widget-view+json": {
       "model_id": "81ff9ffc5f8240b489ea4b0175743dba",
       "version_major": 2,
       "version_minor": 0
      },
      "text/plain": [
       "  0%|          | 0/980 [00:00<?, ?it/s]"
      ]
     },
     "metadata": {},
     "output_type": "display_data"
    },
    {
     "data": {
      "application/vnd.jupyter.widget-view+json": {
       "model_id": "b1ecad171c7c453f8b2067a085519a24",
       "version_major": 2,
       "version_minor": 0
      },
      "text/plain": [
       "  0%|          | 0/490 [00:00<?, ?it/s]"
      ]
     },
     "metadata": {},
     "output_type": "display_data"
    },
    {
     "data": {
      "application/vnd.jupyter.widget-view+json": {
       "model_id": "a4d9f7d887154eb08f0e25cf8bf9aecf",
       "version_major": 2,
       "version_minor": 0
      },
      "text/plain": [
       "  0%|          | 0/980 [00:00<?, ?it/s]"
      ]
     },
     "metadata": {},
     "output_type": "display_data"
    },
    {
     "data": {
      "application/vnd.jupyter.widget-view+json": {
       "model_id": "30ca85ff651a4d6c8ead349968aeb5eb",
       "version_major": 2,
       "version_minor": 0
      },
      "text/plain": [
       "  0%|          | 0/490 [00:00<?, ?it/s]"
      ]
     },
     "metadata": {},
     "output_type": "display_data"
    },
    {
     "data": {
      "application/vnd.jupyter.widget-view+json": {
       "model_id": "20317ac72a8940cab5113829de97b6ad",
       "version_major": 2,
       "version_minor": 0
      },
      "text/plain": [
       "  0%|          | 0/980 [00:00<?, ?it/s]"
      ]
     },
     "metadata": {},
     "output_type": "display_data"
    },
    {
     "data": {
      "application/vnd.jupyter.widget-view+json": {
       "model_id": "20565a68e25b41708cf429283f9efbd5",
       "version_major": 2,
       "version_minor": 0
      },
      "text/plain": [
       "  0%|          | 0/490 [00:00<?, ?it/s]"
      ]
     },
     "metadata": {},
     "output_type": "display_data"
    },
    {
     "data": {
      "application/vnd.jupyter.widget-view+json": {
       "model_id": "5685af5e45784ef3972f48c5dad888b7",
       "version_major": 2,
       "version_minor": 0
      },
      "text/plain": [
       "  0%|          | 0/980 [00:00<?, ?it/s]"
      ]
     },
     "metadata": {},
     "output_type": "display_data"
    },
    {
     "data": {
      "application/vnd.jupyter.widget-view+json": {
       "model_id": "9cede722d5fc41489856236ce5b55590",
       "version_major": 2,
       "version_minor": 0
      },
      "text/plain": [
       "  0%|          | 0/490 [00:00<?, ?it/s]"
      ]
     },
     "metadata": {},
     "output_type": "display_data"
    },
    {
     "data": {
      "application/vnd.jupyter.widget-view+json": {
       "model_id": "5ad9724dbef74da3bf6fed10f1b117d5",
       "version_major": 2,
       "version_minor": 0
      },
      "text/plain": [
       "  0%|          | 0/980 [00:00<?, ?it/s]"
      ]
     },
     "metadata": {},
     "output_type": "display_data"
    },
    {
     "data": {
      "application/vnd.jupyter.widget-view+json": {
       "model_id": "ca298b4fec7f4bf38214660c573153fe",
       "version_major": 2,
       "version_minor": 0
      },
      "text/plain": [
       "  0%|          | 0/490 [00:00<?, ?it/s]"
      ]
     },
     "metadata": {},
     "output_type": "display_data"
    },
    {
     "data": {
      "application/vnd.jupyter.widget-view+json": {
       "model_id": "358f61d099ae4a4db9532632dab5fb76",
       "version_major": 2,
       "version_minor": 0
      },
      "text/plain": [
       "  0%|          | 0/980 [00:00<?, ?it/s]"
      ]
     },
     "metadata": {},
     "output_type": "display_data"
    },
    {
     "data": {
      "application/vnd.jupyter.widget-view+json": {
       "model_id": "c579b060f6054af986dee2325a492683",
       "version_major": 2,
       "version_minor": 0
      },
      "text/plain": [
       "  0%|          | 0/490 [00:00<?, ?it/s]"
      ]
     },
     "metadata": {},
     "output_type": "display_data"
    },
    {
     "data": {
      "application/vnd.jupyter.widget-view+json": {
       "model_id": "10ecf01d81a94426807325261121b6a4",
       "version_major": 2,
       "version_minor": 0
      },
      "text/plain": [
       "  0%|          | 0/980 [00:00<?, ?it/s]"
      ]
     },
     "metadata": {},
     "output_type": "display_data"
    },
    {
     "data": {
      "application/vnd.jupyter.widget-view+json": {
       "model_id": "0e2150c369c74a228376e12db095c5d5",
       "version_major": 2,
       "version_minor": 0
      },
      "text/plain": [
       "  0%|          | 0/490 [00:00<?, ?it/s]"
      ]
     },
     "metadata": {},
     "output_type": "display_data"
    },
    {
     "data": {
      "application/vnd.jupyter.widget-view+json": {
       "model_id": "65312557b6e24447b47a4166785e8737",
       "version_major": 2,
       "version_minor": 0
      },
      "text/plain": [
       "  0%|          | 0/980 [00:00<?, ?it/s]"
      ]
     },
     "metadata": {},
     "output_type": "display_data"
    },
    {
     "data": {
      "application/vnd.jupyter.widget-view+json": {
       "model_id": "7ff6028675f048a083afcdf204c912a9",
       "version_major": 2,
       "version_minor": 0
      },
      "text/plain": [
       "  0%|          | 0/490 [00:00<?, ?it/s]"
      ]
     },
     "metadata": {},
     "output_type": "display_data"
    },
    {
     "data": {
      "application/vnd.jupyter.widget-view+json": {
       "model_id": "386b4c7a125947aa99ddf4f26794d47e",
       "version_major": 2,
       "version_minor": 0
      },
      "text/plain": [
       "  0%|          | 0/980 [00:00<?, ?it/s]"
      ]
     },
     "metadata": {},
     "output_type": "display_data"
    },
    {
     "data": {
      "application/vnd.jupyter.widget-view+json": {
       "model_id": "56408b51d846496680119b99ef074f27",
       "version_major": 2,
       "version_minor": 0
      },
      "text/plain": [
       "  0%|          | 0/490 [00:00<?, ?it/s]"
      ]
     },
     "metadata": {},
     "output_type": "display_data"
    },
    {
     "data": {
      "application/vnd.jupyter.widget-view+json": {
       "model_id": "6ae4b8949ded41e2874cea88d1e88191",
       "version_major": 2,
       "version_minor": 0
      },
      "text/plain": [
       "  0%|          | 0/980 [00:00<?, ?it/s]"
      ]
     },
     "metadata": {},
     "output_type": "display_data"
    },
    {
     "data": {
      "application/vnd.jupyter.widget-view+json": {
       "model_id": "4b6e3b35df2946fbaf976a99c1dfb423",
       "version_major": 2,
       "version_minor": 0
      },
      "text/plain": [
       "  0%|          | 0/490 [00:00<?, ?it/s]"
      ]
     },
     "metadata": {},
     "output_type": "display_data"
    },
    {
     "data": {
      "application/vnd.jupyter.widget-view+json": {
       "model_id": "0d39051d44d244eeb29a57542d594094",
       "version_major": 2,
       "version_minor": 0
      },
      "text/plain": [
       "  0%|          | 0/980 [00:00<?, ?it/s]"
      ]
     },
     "metadata": {},
     "output_type": "display_data"
    },
    {
     "data": {
      "application/vnd.jupyter.widget-view+json": {
       "model_id": "2b8a7757bcca41b8aab78386353cb639",
       "version_major": 2,
       "version_minor": 0
      },
      "text/plain": [
       "  0%|          | 0/490 [00:00<?, ?it/s]"
      ]
     },
     "metadata": {},
     "output_type": "display_data"
    },
    {
     "data": {
      "application/vnd.jupyter.widget-view+json": {
       "model_id": "f45ce7adaef34a78b0d158eb378397be",
       "version_major": 2,
       "version_minor": 0
      },
      "text/plain": [
       "  0%|          | 0/980 [00:00<?, ?it/s]"
      ]
     },
     "metadata": {},
     "output_type": "display_data"
    },
    {
     "data": {
      "application/vnd.jupyter.widget-view+json": {
       "model_id": "07bbda29959c4d73bad9b3ea250af43b",
       "version_major": 2,
       "version_minor": 0
      },
      "text/plain": [
       "  0%|          | 0/490 [00:00<?, ?it/s]"
      ]
     },
     "metadata": {},
     "output_type": "display_data"
    },
    {
     "data": {
      "application/vnd.jupyter.widget-view+json": {
       "model_id": "c5f37f84dce84284bb15b151b319b32f",
       "version_major": 2,
       "version_minor": 0
      },
      "text/plain": [
       "  0%|          | 0/980 [00:00<?, ?it/s]"
      ]
     },
     "metadata": {},
     "output_type": "display_data"
    },
    {
     "data": {
      "application/vnd.jupyter.widget-view+json": {
       "model_id": "7050416905cc4a82a2d6ab5b0e403918",
       "version_major": 2,
       "version_minor": 0
      },
      "text/plain": [
       "  0%|          | 0/490 [00:00<?, ?it/s]"
      ]
     },
     "metadata": {},
     "output_type": "display_data"
    },
    {
     "data": {
      "application/vnd.jupyter.widget-view+json": {
       "model_id": "47c7e93dc632436da1e62eebb6d4df4b",
       "version_major": 2,
       "version_minor": 0
      },
      "text/plain": [
       "  0%|          | 0/980 [00:00<?, ?it/s]"
      ]
     },
     "metadata": {},
     "output_type": "display_data"
    },
    {
     "data": {
      "application/vnd.jupyter.widget-view+json": {
       "model_id": "677b05fb553c465e9fc6e9234e0f8aa2",
       "version_major": 2,
       "version_minor": 0
      },
      "text/plain": [
       "  0%|          | 0/490 [00:00<?, ?it/s]"
      ]
     },
     "metadata": {},
     "output_type": "display_data"
    },
    {
     "data": {
      "application/vnd.jupyter.widget-view+json": {
       "model_id": "eb114e1bb69440e8b1ee722f6577e8d2",
       "version_major": 2,
       "version_minor": 0
      },
      "text/plain": [
       "  0%|          | 0/980 [00:00<?, ?it/s]"
      ]
     },
     "metadata": {},
     "output_type": "display_data"
    },
    {
     "data": {
      "application/vnd.jupyter.widget-view+json": {
       "model_id": "6b77ec5e43f14b45bb114e3621fbc408",
       "version_major": 2,
       "version_minor": 0
      },
      "text/plain": [
       "  0%|          | 0/490 [00:00<?, ?it/s]"
      ]
     },
     "metadata": {},
     "output_type": "display_data"
    },
    {
     "data": {
      "application/vnd.jupyter.widget-view+json": {
       "model_id": "ed4ea4e191c14adb8c58be0c6d2dd6dc",
       "version_major": 2,
       "version_minor": 0
      },
      "text/plain": [
       "  0%|          | 0/980 [00:00<?, ?it/s]"
      ]
     },
     "metadata": {},
     "output_type": "display_data"
    },
    {
     "data": {
      "application/vnd.jupyter.widget-view+json": {
       "model_id": "7d33e589aa5743fea0c87d70fc9d5859",
       "version_major": 2,
       "version_minor": 0
      },
      "text/plain": [
       "  0%|          | 0/490 [00:00<?, ?it/s]"
      ]
     },
     "metadata": {},
     "output_type": "display_data"
    },
    {
     "data": {
      "application/vnd.jupyter.widget-view+json": {
       "model_id": "a4c9d6036a7149fe873e354519677357",
       "version_major": 2,
       "version_minor": 0
      },
      "text/plain": [
       "  0%|          | 0/980 [00:00<?, ?it/s]"
      ]
     },
     "metadata": {},
     "output_type": "display_data"
    },
    {
     "data": {
      "application/vnd.jupyter.widget-view+json": {
       "model_id": "d6af67846ab54ac3a99ae7526fe0e587",
       "version_major": 2,
       "version_minor": 0
      },
      "text/plain": [
       "  0%|          | 0/490 [00:00<?, ?it/s]"
      ]
     },
     "metadata": {},
     "output_type": "display_data"
    },
    {
     "data": {
      "application/vnd.jupyter.widget-view+json": {
       "model_id": "84a13670610a443dbc2f5027ba865a7f",
       "version_major": 2,
       "version_minor": 0
      },
      "text/plain": [
       "  0%|          | 0/980 [00:00<?, ?it/s]"
      ]
     },
     "metadata": {},
     "output_type": "display_data"
    },
    {
     "data": {
      "application/vnd.jupyter.widget-view+json": {
       "model_id": "be40df4f87514cb586e2b0aa910463c2",
       "version_major": 2,
       "version_minor": 0
      },
      "text/plain": [
       "  0%|          | 0/490 [00:00<?, ?it/s]"
      ]
     },
     "metadata": {},
     "output_type": "display_data"
    },
    {
     "data": {
      "application/vnd.jupyter.widget-view+json": {
       "model_id": "f3e1ef3585eb4c05838d7e33b57a5b5a",
       "version_major": 2,
       "version_minor": 0
      },
      "text/plain": [
       "  0%|          | 0/980 [00:00<?, ?it/s]"
      ]
     },
     "metadata": {},
     "output_type": "display_data"
    },
    {
     "data": {
      "application/vnd.jupyter.widget-view+json": {
       "model_id": "d2e2a0dc5e814274ae60048185ccdc54",
       "version_major": 2,
       "version_minor": 0
      },
      "text/plain": [
       "  0%|          | 0/490 [00:00<?, ?it/s]"
      ]
     },
     "metadata": {},
     "output_type": "display_data"
    },
    {
     "data": {
      "application/vnd.jupyter.widget-view+json": {
       "model_id": "468fa2ad7ae84aa7b9744069514f2d5c",
       "version_major": 2,
       "version_minor": 0
      },
      "text/plain": [
       "  0%|          | 0/980 [00:00<?, ?it/s]"
      ]
     },
     "metadata": {},
     "output_type": "display_data"
    },
    {
     "data": {
      "application/vnd.jupyter.widget-view+json": {
       "model_id": "86c37a04ad8849fe86f7c69b0ceea69f",
       "version_major": 2,
       "version_minor": 0
      },
      "text/plain": [
       "  0%|          | 0/490 [00:00<?, ?it/s]"
      ]
     },
     "metadata": {},
     "output_type": "display_data"
    },
    {
     "data": {
      "application/vnd.jupyter.widget-view+json": {
       "model_id": "42f247fed14d4510a1ca78a8bda29656",
       "version_major": 2,
       "version_minor": 0
      },
      "text/plain": [
       "  0%|          | 0/980 [00:00<?, ?it/s]"
      ]
     },
     "metadata": {},
     "output_type": "display_data"
    },
    {
     "data": {
      "application/vnd.jupyter.widget-view+json": {
       "model_id": "84d33069630f4f7484de71f3273d257e",
       "version_major": 2,
       "version_minor": 0
      },
      "text/plain": [
       "  0%|          | 0/490 [00:00<?, ?it/s]"
      ]
     },
     "metadata": {},
     "output_type": "display_data"
    },
    {
     "data": {
      "application/vnd.jupyter.widget-view+json": {
       "model_id": "224ec542d40a4f2fa03b639fa6fb6b6b",
       "version_major": 2,
       "version_minor": 0
      },
      "text/plain": [
       "  0%|          | 0/980 [00:00<?, ?it/s]"
      ]
     },
     "metadata": {},
     "output_type": "display_data"
    }
   ],
   "source": [
    "MIN_loss=0\n",
    "#train\n",
    "for epoch in range(10000):\n",
    "    cost = 0.0\n",
    "    train=tqdm_notebook(train_dataloader)\n",
    "    count=0\n",
    "    \n",
    "    TP_count=1\n",
    "    FP_count=1\n",
    "    TN_count=1\n",
    "    FN_count=1\n",
    "    for x25,x5,x10, y in train:\n",
    "        y = y.to(device0)\n",
    "        count+=1\n",
    "        \n",
    "        output = model(x25.to(device0),x5.to(device0),x10.to(device0))\n",
    "        z=torch.unsqueeze(torch.squeeze(y),0).type('torch.cuda.FloatTensor')\n",
    "        k=torch.unsqueeze(torch.squeeze(output),0)\n",
    "        \n",
    "        loss = criterion(k, z).to(device0)\n",
    "        optimizer.zero_grad()\n",
    "        loss.backward()\n",
    "        optimizer.step()\n",
    "        for j in range(64):\n",
    "            if z[0,j]==0:\n",
    "                if k[0,j]>=0.5:\n",
    "                    FP_count+=1\n",
    "                else:\n",
    "                    TN_count+=1\n",
    "            else:\n",
    "                if k[0,j]>=0.5:\n",
    "                    TP_count+=1\n",
    "                else:\n",
    "                    FN_count+=1\n",
    "        \n",
    "        \n",
    "        cost += loss\n",
    "    \n",
    "        train.set_description(f\"epoch: {epoch+1}/{10000} Step: {count+1} loss : {cost/count:.4f} negative_accuracy: {TN_count/(FP_count+TN_count):.4f} positive_accuracy: {TP_count/(TP_count+FN_count):.4f}\")\n",
    "#validation\n",
    "    count=0\n",
    "    val=tqdm_notebook(validation_dataloader)\n",
    "    TP_count=1\n",
    "    FP_count=1\n",
    "    TN_count=1\n",
    "    val_cost=0\n",
    "    FN_count=1\n",
    "    model.eval()\n",
    "    with torch.no_grad():\n",
    "        for x25,x5,x10, y in val:\n",
    "            y = y.to(device0)\n",
    "            count+=1\n",
    "            \n",
    "            output = model(x25.to(device0),x5.to(device0),x10.to(device0))\n",
    "            z=torch.unsqueeze(torch.squeeze(y),0).type('torch.cuda.FloatTensor')\n",
    "            k=torch.unsqueeze(torch.squeeze(output),0)\n",
    "            \n",
    "            loss = criterion(k, z).to(device0)\n",
    "            for j in range(16):\n",
    "                if z[0,j]==0:\n",
    "                    if k[0,j]>=0.5:\n",
    "                        FP_count+=1\n",
    "                    else:\n",
    "                        TN_count+=1\n",
    "                else:\n",
    "                    if k[0,j]>=0.5:\n",
    "                        TP_count+=1\n",
    "                    else:\n",
    "                        FN_count+=1\n",
    "            val_cost += loss\n",
    "            val.set_description(f\"Validation epoch: {epoch+1}/{10000} Step: {count+1} loss : {val_cost/count:.4f} negative_accuracy: {TN_count/(FP_count+TN_count):.4f} positive_accuracy: {TP_count/(TP_count+FN_count):.4f}\")\n",
    "\n",
    "    if MIN_loss<(TP_count/(TP_count+FN_count)):\n",
    "        torch.save(model.state_dict(), '../../model/3Division_class/call_back.pt')\n",
    "        MIN_loss=TP_count/(TP_count+FN_count)\n",
    "        \n"
   ]
  }
 ],
 "metadata": {
  "kernelspec": {
   "display_name": "LeeYS",
   "language": "python",
   "name": "python3"
  },
  "language_info": {
   "codemirror_mode": {
    "name": "ipython",
    "version": 3
   },
   "file_extension": ".py",
   "mimetype": "text/x-python",
   "name": "python",
   "nbconvert_exporter": "python",
   "pygments_lexer": "ipython3",
   "version": "3.9.0"
  },
  "orig_nbformat": 4
 },
 "nbformat": 4,
 "nbformat_minor": 2
}
