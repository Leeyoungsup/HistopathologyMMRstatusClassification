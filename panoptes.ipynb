{
 "cells": [
  {
   "cell_type": "code",
   "execution_count": 1,
   "metadata": {},
   "outputs": [],
   "source": [
    "import os\n",
    "import torchvision.models as models \n",
    "import torch.nn as nn\n",
    "import torch\n",
    "import pandas as pd\n",
    "from torchvision.io import read_image\n",
    "import torch\n",
    "from torch.utils.data import Dataset, DataLoader, random_split\n",
    "from torchvision import datasets\n",
    "from torchvision.transforms import ToTensor\n",
    "import matplotlib.pyplot as plt\n",
    "import torchvision\n",
    "from glob import glob\n",
    "import numpy as np\n",
    "import torch.functional as F\n",
    "from efficientnet_pytorch_3d import EfficientNet3D\n",
    "from efficientnet_pytorch import EfficientNet\n",
    "import torchvision.transforms as T\n",
    "from tqdm import tqdm_notebook\n",
    "device0 = torch.device(\"cuda:1\" if torch.cuda.is_available() else \"cpu\")\n"
   ]
  },
  {
   "cell_type": "markdown",
   "metadata": {},
   "source": [
    "데이터셋"
   ]
  },
  {
   "cell_type": "code",
   "execution_count": 2,
   "metadata": {},
   "outputs": [],
   "source": [
    "class CustomImageDataset(Dataset):\n",
    "    def __init__(self, annotations_file, img_glob, transform=None, target_transform=None):\n",
    "        self.img_labels = pd.read_csv(annotations_file)\n",
    "        self.img_list = glob(img_glob)\n",
    "        self.transform = transform\n",
    "        self.target_transform = target_transform\n",
    "        self.file_name_list=[]\n",
    "        self.file_remove_list=[]\n",
    "        self.label_list=[]\n",
    "        \n",
    "        for i in range(len(self.img_list)):\n",
    "            self.file_name_list.append(os.path.splitext(os.path.basename(self.img_list[i]))[0][:9])\n",
    "\n",
    "        for i in range(len(self.file_name_list)):\n",
    "            label_index=self.img_labels.loc[self.img_labels['PathologyNumber'] == self.file_name_list[i]]\n",
    "            if len(label_index)==0:\n",
    "                self.file_remove_list.append(self.img_list[i])\n",
    "            else:\n",
    "                if label_index['MMR status'].to_list()[0]=='Normal':\n",
    "                    self.label_list.append(0)\n",
    "                else:\n",
    "                    self.label_list.append(1)\n",
    "        for i in range(len(self.file_remove_list)):\n",
    "            self.img_list.remove(self.file_remove_list[i])\n",
    "        self.image_x5=[f.replace('/2.5x_standard', '/5x_standard') for f in self.img_list]\n",
    "        self.image_x10=[f.replace('/2.5x_standard', '/10x_standard') for f in self.img_list]\n",
    "        img_5x_temp=[]\n",
    "        img_10x_temp=[]\n",
    "        for i in range(len(self.img_list)):\n",
    "            for j in range(4):\n",
    "                img_5x_temp.append(self.image_x5[i][:-4]+'_'+str(j)+'.jpg')\n",
    "            for j in range(16):\n",
    "                img_10x_temp.append(self.image_x10[i][:-4]+'_'+str(j)+'.jpg')\n",
    "            self.image_x5[i]=img_5x_temp\n",
    "            self.image_x10[i]=img_10x_temp\n",
    "        self.transform = T.Resize(224)\n",
    "    def __len__(self):\n",
    "        return len(self.img_list)\n",
    "\n",
    "    def __getitem__(self, idx):\n",
    "        image = (1-self.transform(read_image(self.img_list[idx])))/255\n",
    "        label = self.label_list[idx]\n",
    "        image_5x=torch.zeros(4,3,224,224)\n",
    "        image_10x=torch.zeros(16,3,224,224)\n",
    "        for i in range(4):\n",
    "            image_5x[i]=self.transform(read_image(self.image_x5[idx][i]))\n",
    "        for i in range(16):\n",
    "            image_10x[i]=self.transform(read_image(self.image_x10[idx][i]))\n",
    "        image_5x=np.transpose(1-image_5x, axes=(1, 0, 2,3))/255\n",
    "        image_10x=np.transpose(1-image_10x, axes=(1, 0, 2,3))/255\n",
    "        image_5x=torch.reshape(1-image_5x,(3*4,224,224))\n",
    "        image_10x=torch.reshape(1-image_10x,(16*3,224,224))\n",
    "        \n",
    "        return image,image_5x,image_10x,label"
   ]
  },
  {
   "cell_type": "code",
   "execution_count": 3,
   "metadata": {},
   "outputs": [],
   "source": [
    "img_glob='../../data/CycleGANData/3divisionTile/2.5x_standard/*.jpg'\n",
    "annotations_file='../../data/OriginalData/MMR.csv'\n",
    "dataset=CustomImageDataset(annotations_file,img_glob)\n",
    "dataset_size = len(dataset)\n",
    "train_size = int(dataset_size * 0.8)\n",
    "validation_size = int(dataset_size * 0.1)\n",
    "test_size = dataset_size - train_size - validation_size\n",
    "train_dataset, validation_dataset, test_dataset = random_split(dataset, [train_size, validation_size, test_size])\n",
    "train_dataloader = DataLoader(train_dataset, batch_size=64, shuffle=True, drop_last=True)\n",
    "validation_dataloader = DataLoader(validation_dataset, batch_size=16, shuffle=True, drop_last=True)\n",
    "test_dataloader = DataLoader(test_dataset, batch_size=16, shuffle=True, drop_last=True)"
   ]
  },
  {
   "cell_type": "markdown",
   "metadata": {},
   "source": [
    "Panoptes"
   ]
  },
  {
   "cell_type": "code",
   "execution_count": 6,
   "metadata": {},
   "outputs": [],
   "source": [
    "class Panoptes(nn.Module):\n",
    "    def __init__(self):\n",
    "        super().__init__()\n",
    "        self.model_25x=EfficientNet.from_name('efficientnet-b0', in_channels=3).to(device0)\n",
    "        self.model_5x=EfficientNet.from_name('efficientnet-b0', in_channels=3*4).to(device0)\n",
    "        self.model_10x=EfficientNet.from_name('efficientnet-b0', in_channels=3*16).to(device0)\n",
    "        self.relu = nn.ReLU()\n",
    "        self.fc1 = nn.Linear(3000, 300).to(device0)\n",
    "        self.fc2 = nn.Linear(300, 30).to(device0)\n",
    "        self.fc3 = nn.Linear(30, 1).to(device0)\n",
    "        self.cat1=torch.cat\n",
    "        self.cat2=torch.cat\n",
    "        self.sig = nn.Sigmoid()\n",
    "    def forward(self, x25,x5,x10):\n",
    "        x25 = self.model_25x(x25).to(device0)\n",
    "        x5 = self.model_5x(x5).to(device0)\n",
    "        x10 = self.model_10x(x10).to(device0)\n",
    "        x = self.cat1((x25, x5), dim=1).to(device0)\n",
    "        x = self.cat2((x, x10), dim=1).to(device0)\n",
    "        x = self.relu(self.fc1(x).to(device0))\n",
    "        x = self.relu(self.fc2(x).to(device0))\n",
    "        x = self.fc3(x).to(device0)\n",
    "        return x\n",
    "    \n",
    "model = Panoptes().to(device0)\n",
    "criterion = nn.BCEWithLogitsLoss().to(device0)\n",
    "optimizer = torch.optim.Adam(model.parameters(), lr=0.0001)"
   ]
  },
  {
   "cell_type": "markdown",
   "metadata": {},
   "source": [
    "Train"
   ]
  },
  {
   "cell_type": "code",
   "execution_count": 7,
   "metadata": {},
   "outputs": [
    {
     "name": "stderr",
     "output_type": "stream",
     "text": [
      "/tmp/ipykernel_54692/1752753498.py:5: TqdmDeprecationWarning: This function will be removed in tqdm==5.0.0\n",
      "Please use `tqdm.notebook.tqdm` instead of `tqdm.tqdm_notebook`\n",
      "  train=tqdm_notebook(train_dataloader)\n"
     ]
    },
    {
     "data": {
      "application/vnd.jupyter.widget-view+json": {
       "model_id": "b04022d98f254840bd2cd09f470dfb19",
       "version_major": 2,
       "version_minor": 0
      },
      "text/plain": [
       "  0%|          | 0/980 [00:00<?, ?it/s]"
      ]
     },
     "metadata": {},
     "output_type": "display_data"
    },
    {
     "name": "stderr",
     "output_type": "stream",
     "text": [
      "/tmp/ipykernel_54692/1752753498.py:42: TqdmDeprecationWarning: This function will be removed in tqdm==5.0.0\n",
      "Please use `tqdm.notebook.tqdm` instead of `tqdm.tqdm_notebook`\n",
      "  val=tqdm_notebook(validation_dataloader)\n"
     ]
    },
    {
     "data": {
      "application/vnd.jupyter.widget-view+json": {
       "model_id": "3769fd4be71a4117961d69614f9640f8",
       "version_major": 2,
       "version_minor": 0
      },
      "text/plain": [
       "  0%|          | 0/490 [00:00<?, ?it/s]"
      ]
     },
     "metadata": {},
     "output_type": "display_data"
    },
    {
     "data": {
      "application/vnd.jupyter.widget-view+json": {
       "model_id": "ca3029b44142461e858696419f4ed312",
       "version_major": 2,
       "version_minor": 0
      },
      "text/plain": [
       "  0%|          | 0/980 [00:00<?, ?it/s]"
      ]
     },
     "metadata": {},
     "output_type": "display_data"
    },
    {
     "data": {
      "application/vnd.jupyter.widget-view+json": {
       "model_id": "6c41d1747e074dab9ab5030fd531173b",
       "version_major": 2,
       "version_minor": 0
      },
      "text/plain": [
       "  0%|          | 0/490 [00:00<?, ?it/s]"
      ]
     },
     "metadata": {},
     "output_type": "display_data"
    },
    {
     "data": {
      "application/vnd.jupyter.widget-view+json": {
       "model_id": "4f24ae60736f40b89987dd86b69ea653",
       "version_major": 2,
       "version_minor": 0
      },
      "text/plain": [
       "  0%|          | 0/980 [00:00<?, ?it/s]"
      ]
     },
     "metadata": {},
     "output_type": "display_data"
    },
    {
     "data": {
      "application/vnd.jupyter.widget-view+json": {
       "model_id": "15e8946287154f72b63f9f0ddcfbd4b4",
       "version_major": 2,
       "version_minor": 0
      },
      "text/plain": [
       "  0%|          | 0/490 [00:00<?, ?it/s]"
      ]
     },
     "metadata": {},
     "output_type": "display_data"
    },
    {
     "data": {
      "application/vnd.jupyter.widget-view+json": {
       "model_id": "807b8bb9a4704b23beff47b8fa8209e5",
       "version_major": 2,
       "version_minor": 0
      },
      "text/plain": [
       "  0%|          | 0/980 [00:00<?, ?it/s]"
      ]
     },
     "metadata": {},
     "output_type": "display_data"
    },
    {
     "data": {
      "application/vnd.jupyter.widget-view+json": {
       "model_id": "1606ccbee0e34d338f1848fd82cf4505",
       "version_major": 2,
       "version_minor": 0
      },
      "text/plain": [
       "  0%|          | 0/490 [00:00<?, ?it/s]"
      ]
     },
     "metadata": {},
     "output_type": "display_data"
    },
    {
     "data": {
      "application/vnd.jupyter.widget-view+json": {
       "model_id": "01f193b2643a4409a3c9a97ad7cae934",
       "version_major": 2,
       "version_minor": 0
      },
      "text/plain": [
       "  0%|          | 0/980 [00:00<?, ?it/s]"
      ]
     },
     "metadata": {},
     "output_type": "display_data"
    },
    {
     "data": {
      "application/vnd.jupyter.widget-view+json": {
       "model_id": "fa1ca576c18547a58d9c4b031b090875",
       "version_major": 2,
       "version_minor": 0
      },
      "text/plain": [
       "  0%|          | 0/490 [00:00<?, ?it/s]"
      ]
     },
     "metadata": {},
     "output_type": "display_data"
    },
    {
     "data": {
      "application/vnd.jupyter.widget-view+json": {
       "model_id": "969e54833f8e4c67bd7a931cafa9c7e4",
       "version_major": 2,
       "version_minor": 0
      },
      "text/plain": [
       "  0%|          | 0/980 [00:00<?, ?it/s]"
      ]
     },
     "metadata": {},
     "output_type": "display_data"
    },
    {
     "data": {
      "application/vnd.jupyter.widget-view+json": {
       "model_id": "1ad072995d0247c4be49f15e0b82b5e1",
       "version_major": 2,
       "version_minor": 0
      },
      "text/plain": [
       "  0%|          | 0/490 [00:00<?, ?it/s]"
      ]
     },
     "metadata": {},
     "output_type": "display_data"
    },
    {
     "data": {
      "application/vnd.jupyter.widget-view+json": {
       "model_id": "8bdfbf3ff8044c2b9b0c2c4e191eef3f",
       "version_major": 2,
       "version_minor": 0
      },
      "text/plain": [
       "  0%|          | 0/980 [00:00<?, ?it/s]"
      ]
     },
     "metadata": {},
     "output_type": "display_data"
    },
    {
     "data": {
      "application/vnd.jupyter.widget-view+json": {
       "model_id": "f327572884584dc48ab80e70a74b33f0",
       "version_major": 2,
       "version_minor": 0
      },
      "text/plain": [
       "  0%|          | 0/490 [00:00<?, ?it/s]"
      ]
     },
     "metadata": {},
     "output_type": "display_data"
    },
    {
     "data": {
      "application/vnd.jupyter.widget-view+json": {
       "model_id": "a4c66dee39b04d60b3c948899f3ba837",
       "version_major": 2,
       "version_minor": 0
      },
      "text/plain": [
       "  0%|          | 0/980 [00:00<?, ?it/s]"
      ]
     },
     "metadata": {},
     "output_type": "display_data"
    },
    {
     "data": {
      "application/vnd.jupyter.widget-view+json": {
       "model_id": "046af06e6a32403cb7df9e3ae88ff5d4",
       "version_major": 2,
       "version_minor": 0
      },
      "text/plain": [
       "  0%|          | 0/490 [00:00<?, ?it/s]"
      ]
     },
     "metadata": {},
     "output_type": "display_data"
    },
    {
     "data": {
      "application/vnd.jupyter.widget-view+json": {
       "model_id": "cbb3929064934a3eb7380d02cb643809",
       "version_major": 2,
       "version_minor": 0
      },
      "text/plain": [
       "  0%|          | 0/980 [00:00<?, ?it/s]"
      ]
     },
     "metadata": {},
     "output_type": "display_data"
    },
    {
     "data": {
      "application/vnd.jupyter.widget-view+json": {
       "model_id": "83acd57e6f2f4bfcb9844564a238a733",
       "version_major": 2,
       "version_minor": 0
      },
      "text/plain": [
       "  0%|          | 0/490 [00:00<?, ?it/s]"
      ]
     },
     "metadata": {},
     "output_type": "display_data"
    },
    {
     "data": {
      "application/vnd.jupyter.widget-view+json": {
       "model_id": "a65f867d0f224c4cad3a73af08c89347",
       "version_major": 2,
       "version_minor": 0
      },
      "text/plain": [
       "  0%|          | 0/980 [00:00<?, ?it/s]"
      ]
     },
     "metadata": {},
     "output_type": "display_data"
    },
    {
     "data": {
      "application/vnd.jupyter.widget-view+json": {
       "model_id": "03bf1648026c49759d2b668f69d6470a",
       "version_major": 2,
       "version_minor": 0
      },
      "text/plain": [
       "  0%|          | 0/490 [00:00<?, ?it/s]"
      ]
     },
     "metadata": {},
     "output_type": "display_data"
    },
    {
     "data": {
      "application/vnd.jupyter.widget-view+json": {
       "model_id": "6c857800d4914cd584cb4be34145aed5",
       "version_major": 2,
       "version_minor": 0
      },
      "text/plain": [
       "  0%|          | 0/980 [00:00<?, ?it/s]"
      ]
     },
     "metadata": {},
     "output_type": "display_data"
    },
    {
     "data": {
      "application/vnd.jupyter.widget-view+json": {
       "model_id": "ec3aff685db64f619ca25ea0610dba87",
       "version_major": 2,
       "version_minor": 0
      },
      "text/plain": [
       "  0%|          | 0/490 [00:00<?, ?it/s]"
      ]
     },
     "metadata": {},
     "output_type": "display_data"
    },
    {
     "data": {
      "application/vnd.jupyter.widget-view+json": {
       "model_id": "baf52738cabd4e5393a47feb69e613b2",
       "version_major": 2,
       "version_minor": 0
      },
      "text/plain": [
       "  0%|          | 0/980 [00:00<?, ?it/s]"
      ]
     },
     "metadata": {},
     "output_type": "display_data"
    },
    {
     "data": {
      "application/vnd.jupyter.widget-view+json": {
       "model_id": "a12bb292957c49919bc0c26f0fe0ccf4",
       "version_major": 2,
       "version_minor": 0
      },
      "text/plain": [
       "  0%|          | 0/490 [00:00<?, ?it/s]"
      ]
     },
     "metadata": {},
     "output_type": "display_data"
    },
    {
     "data": {
      "application/vnd.jupyter.widget-view+json": {
       "model_id": "1cbc8d76988a4db3977b8b0b321abb19",
       "version_major": 2,
       "version_minor": 0
      },
      "text/plain": [
       "  0%|          | 0/980 [00:00<?, ?it/s]"
      ]
     },
     "metadata": {},
     "output_type": "display_data"
    },
    {
     "data": {
      "application/vnd.jupyter.widget-view+json": {
       "model_id": "030b426905024ae99a7c83bf82bbbd9e",
       "version_major": 2,
       "version_minor": 0
      },
      "text/plain": [
       "  0%|          | 0/490 [00:00<?, ?it/s]"
      ]
     },
     "metadata": {},
     "output_type": "display_data"
    },
    {
     "data": {
      "application/vnd.jupyter.widget-view+json": {
       "model_id": "51563071077a4b3f81d887e308376d8a",
       "version_major": 2,
       "version_minor": 0
      },
      "text/plain": [
       "  0%|          | 0/980 [00:00<?, ?it/s]"
      ]
     },
     "metadata": {},
     "output_type": "display_data"
    },
    {
     "data": {
      "application/vnd.jupyter.widget-view+json": {
       "model_id": "e246393a6736483185f81e83cd9039da",
       "version_major": 2,
       "version_minor": 0
      },
      "text/plain": [
       "  0%|          | 0/490 [00:00<?, ?it/s]"
      ]
     },
     "metadata": {},
     "output_type": "display_data"
    },
    {
     "data": {
      "application/vnd.jupyter.widget-view+json": {
       "model_id": "9d249ba0279244d2a3f99195f92f865a",
       "version_major": 2,
       "version_minor": 0
      },
      "text/plain": [
       "  0%|          | 0/980 [00:00<?, ?it/s]"
      ]
     },
     "metadata": {},
     "output_type": "display_data"
    },
    {
     "data": {
      "application/vnd.jupyter.widget-view+json": {
       "model_id": "5178ad4b6e7d434e995837d74f1fc01a",
       "version_major": 2,
       "version_minor": 0
      },
      "text/plain": [
       "  0%|          | 0/490 [00:00<?, ?it/s]"
      ]
     },
     "metadata": {},
     "output_type": "display_data"
    },
    {
     "data": {
      "application/vnd.jupyter.widget-view+json": {
       "model_id": "e9614895e89a4049afb8ccaf5b3bfcff",
       "version_major": 2,
       "version_minor": 0
      },
      "text/plain": [
       "  0%|          | 0/980 [00:00<?, ?it/s]"
      ]
     },
     "metadata": {},
     "output_type": "display_data"
    },
    {
     "data": {
      "application/vnd.jupyter.widget-view+json": {
       "model_id": "e1fb6b9d5b3b4d699fd2944774c53799",
       "version_major": 2,
       "version_minor": 0
      },
      "text/plain": [
       "  0%|          | 0/490 [00:00<?, ?it/s]"
      ]
     },
     "metadata": {},
     "output_type": "display_data"
    },
    {
     "data": {
      "application/vnd.jupyter.widget-view+json": {
       "model_id": "b98f41b792e343b78421392ce68c61ff",
       "version_major": 2,
       "version_minor": 0
      },
      "text/plain": [
       "  0%|          | 0/980 [00:00<?, ?it/s]"
      ]
     },
     "metadata": {},
     "output_type": "display_data"
    },
    {
     "data": {
      "application/vnd.jupyter.widget-view+json": {
       "model_id": "89b07f6ac3514045a2b9df17b95ed97e",
       "version_major": 2,
       "version_minor": 0
      },
      "text/plain": [
       "  0%|          | 0/490 [00:00<?, ?it/s]"
      ]
     },
     "metadata": {},
     "output_type": "display_data"
    },
    {
     "data": {
      "application/vnd.jupyter.widget-view+json": {
       "model_id": "72b84f5a1cd34efe9be03ba11d7c7c82",
       "version_major": 2,
       "version_minor": 0
      },
      "text/plain": [
       "  0%|          | 0/980 [00:00<?, ?it/s]"
      ]
     },
     "metadata": {},
     "output_type": "display_data"
    },
    {
     "data": {
      "application/vnd.jupyter.widget-view+json": {
       "model_id": "2258fb53a3b84bbfa55385030810f330",
       "version_major": 2,
       "version_minor": 0
      },
      "text/plain": [
       "  0%|          | 0/490 [00:00<?, ?it/s]"
      ]
     },
     "metadata": {},
     "output_type": "display_data"
    },
    {
     "data": {
      "application/vnd.jupyter.widget-view+json": {
       "model_id": "e9c23c13eb4f4e5c91282d422812b803",
       "version_major": 2,
       "version_minor": 0
      },
      "text/plain": [
       "  0%|          | 0/980 [00:00<?, ?it/s]"
      ]
     },
     "metadata": {},
     "output_type": "display_data"
    },
    {
     "data": {
      "application/vnd.jupyter.widget-view+json": {
       "model_id": "722cffd797234aed9d31defce7c13931",
       "version_major": 2,
       "version_minor": 0
      },
      "text/plain": [
       "  0%|          | 0/490 [00:00<?, ?it/s]"
      ]
     },
     "metadata": {},
     "output_type": "display_data"
    },
    {
     "data": {
      "application/vnd.jupyter.widget-view+json": {
       "model_id": "6259aea6bfac410f9ff421f4a600afbe",
       "version_major": 2,
       "version_minor": 0
      },
      "text/plain": [
       "  0%|          | 0/980 [00:00<?, ?it/s]"
      ]
     },
     "metadata": {},
     "output_type": "display_data"
    },
    {
     "data": {
      "application/vnd.jupyter.widget-view+json": {
       "model_id": "6d2754d51b424d54a06f7f34afff9db1",
       "version_major": 2,
       "version_minor": 0
      },
      "text/plain": [
       "  0%|          | 0/490 [00:00<?, ?it/s]"
      ]
     },
     "metadata": {},
     "output_type": "display_data"
    },
    {
     "data": {
      "application/vnd.jupyter.widget-view+json": {
       "model_id": "5ca6011990c14e89a217d8278c640eb3",
       "version_major": 2,
       "version_minor": 0
      },
      "text/plain": [
       "  0%|          | 0/980 [00:00<?, ?it/s]"
      ]
     },
     "metadata": {},
     "output_type": "display_data"
    },
    {
     "data": {
      "application/vnd.jupyter.widget-view+json": {
       "model_id": "fef71a6610554e26b83a7df62c8661b9",
       "version_major": 2,
       "version_minor": 0
      },
      "text/plain": [
       "  0%|          | 0/490 [00:00<?, ?it/s]"
      ]
     },
     "metadata": {},
     "output_type": "display_data"
    },
    {
     "data": {
      "application/vnd.jupyter.widget-view+json": {
       "model_id": "024feead05e34b8bb5814e596e37c57c",
       "version_major": 2,
       "version_minor": 0
      },
      "text/plain": [
       "  0%|          | 0/980 [00:00<?, ?it/s]"
      ]
     },
     "metadata": {},
     "output_type": "display_data"
    },
    {
     "data": {
      "application/vnd.jupyter.widget-view+json": {
       "model_id": "6cf8c43b90b049e6aec01ed46a357352",
       "version_major": 2,
       "version_minor": 0
      },
      "text/plain": [
       "  0%|          | 0/490 [00:00<?, ?it/s]"
      ]
     },
     "metadata": {},
     "output_type": "display_data"
    },
    {
     "data": {
      "application/vnd.jupyter.widget-view+json": {
       "model_id": "bf26728a6295447bb01343f4578b9df4",
       "version_major": 2,
       "version_minor": 0
      },
      "text/plain": [
       "  0%|          | 0/980 [00:00<?, ?it/s]"
      ]
     },
     "metadata": {},
     "output_type": "display_data"
    },
    {
     "data": {
      "application/vnd.jupyter.widget-view+json": {
       "model_id": "ca8262baf9424260ad4acff062670cc5",
       "version_major": 2,
       "version_minor": 0
      },
      "text/plain": [
       "  0%|          | 0/490 [00:00<?, ?it/s]"
      ]
     },
     "metadata": {},
     "output_type": "display_data"
    },
    {
     "data": {
      "application/vnd.jupyter.widget-view+json": {
       "model_id": "8174f2b17a224e21944fbcc987d33357",
       "version_major": 2,
       "version_minor": 0
      },
      "text/plain": [
       "  0%|          | 0/980 [00:00<?, ?it/s]"
      ]
     },
     "metadata": {},
     "output_type": "display_data"
    },
    {
     "data": {
      "application/vnd.jupyter.widget-view+json": {
       "model_id": "479b7ba644354c27ad25bf4ef3a0f7a6",
       "version_major": 2,
       "version_minor": 0
      },
      "text/plain": [
       "  0%|          | 0/490 [00:00<?, ?it/s]"
      ]
     },
     "metadata": {},
     "output_type": "display_data"
    },
    {
     "data": {
      "application/vnd.jupyter.widget-view+json": {
       "model_id": "19e1944a205f42f5951f9bc7f29b47ff",
       "version_major": 2,
       "version_minor": 0
      },
      "text/plain": [
       "  0%|          | 0/980 [00:00<?, ?it/s]"
      ]
     },
     "metadata": {},
     "output_type": "display_data"
    },
    {
     "data": {
      "application/vnd.jupyter.widget-view+json": {
       "model_id": "dc3b1785b1aa4b4ca462afb5355f961d",
       "version_major": 2,
       "version_minor": 0
      },
      "text/plain": [
       "  0%|          | 0/490 [00:00<?, ?it/s]"
      ]
     },
     "metadata": {},
     "output_type": "display_data"
    },
    {
     "data": {
      "application/vnd.jupyter.widget-view+json": {
       "model_id": "c0eb8fc56456488cbc2690a167807bcc",
       "version_major": 2,
       "version_minor": 0
      },
      "text/plain": [
       "  0%|          | 0/980 [00:00<?, ?it/s]"
      ]
     },
     "metadata": {},
     "output_type": "display_data"
    },
    {
     "data": {
      "application/vnd.jupyter.widget-view+json": {
       "model_id": "c7ff3cdef42a45688d25f4dfb6a42d11",
       "version_major": 2,
       "version_minor": 0
      },
      "text/plain": [
       "  0%|          | 0/490 [00:00<?, ?it/s]"
      ]
     },
     "metadata": {},
     "output_type": "display_data"
    },
    {
     "data": {
      "application/vnd.jupyter.widget-view+json": {
       "model_id": "fea89ceaf3b841d39ca08a2180a639ac",
       "version_major": 2,
       "version_minor": 0
      },
      "text/plain": [
       "  0%|          | 0/980 [00:00<?, ?it/s]"
      ]
     },
     "metadata": {},
     "output_type": "display_data"
    },
    {
     "data": {
      "application/vnd.jupyter.widget-view+json": {
       "model_id": "83e5506e13b245a5aa00cbb1c352c4ae",
       "version_major": 2,
       "version_minor": 0
      },
      "text/plain": [
       "  0%|          | 0/490 [00:00<?, ?it/s]"
      ]
     },
     "metadata": {},
     "output_type": "display_data"
    },
    {
     "data": {
      "application/vnd.jupyter.widget-view+json": {
       "model_id": "092649c075ca4490b76e678c8f9bef90",
       "version_major": 2,
       "version_minor": 0
      },
      "text/plain": [
       "  0%|          | 0/980 [00:00<?, ?it/s]"
      ]
     },
     "metadata": {},
     "output_type": "display_data"
    },
    {
     "data": {
      "application/vnd.jupyter.widget-view+json": {
       "model_id": "3fcdc4ec8b2241378003a4c7b9c46a2d",
       "version_major": 2,
       "version_minor": 0
      },
      "text/plain": [
       "  0%|          | 0/490 [00:00<?, ?it/s]"
      ]
     },
     "metadata": {},
     "output_type": "display_data"
    },
    {
     "data": {
      "application/vnd.jupyter.widget-view+json": {
       "model_id": "6257d7b2e1d04e7e832a6c50306f723f",
       "version_major": 2,
       "version_minor": 0
      },
      "text/plain": [
       "  0%|          | 0/980 [00:00<?, ?it/s]"
      ]
     },
     "metadata": {},
     "output_type": "display_data"
    },
    {
     "data": {
      "application/vnd.jupyter.widget-view+json": {
       "model_id": "16d069ec744f4bb796f3507b3782b562",
       "version_major": 2,
       "version_minor": 0
      },
      "text/plain": [
       "  0%|          | 0/490 [00:00<?, ?it/s]"
      ]
     },
     "metadata": {},
     "output_type": "display_data"
    },
    {
     "data": {
      "application/vnd.jupyter.widget-view+json": {
       "model_id": "06139e9c37514afbbe6db787fbf76075",
       "version_major": 2,
       "version_minor": 0
      },
      "text/plain": [
       "  0%|          | 0/980 [00:00<?, ?it/s]"
      ]
     },
     "metadata": {},
     "output_type": "display_data"
    },
    {
     "data": {
      "application/vnd.jupyter.widget-view+json": {
       "model_id": "071d9be6ef6f43e3b34ba711a5b6fa48",
       "version_major": 2,
       "version_minor": 0
      },
      "text/plain": [
       "  0%|          | 0/490 [00:00<?, ?it/s]"
      ]
     },
     "metadata": {},
     "output_type": "display_data"
    },
    {
     "data": {
      "application/vnd.jupyter.widget-view+json": {
       "model_id": "2d41ae2534c3484f86df626a644db80e",
       "version_major": 2,
       "version_minor": 0
      },
      "text/plain": [
       "  0%|          | 0/980 [00:00<?, ?it/s]"
      ]
     },
     "metadata": {},
     "output_type": "display_data"
    }
   ],
   "source": [
    "MIN_loss=0\n",
    "#train\n",
    "for epoch in range(10000):\n",
    "    cost = 0.0\n",
    "    train=tqdm_notebook(train_dataloader)\n",
    "    count=0\n",
    "    \n",
    "    TP_count=1\n",
    "    FP_count=1\n",
    "    TN_count=1\n",
    "    FN_count=1\n",
    "    for x25,x5,x10, y in train:\n",
    "        y = y.to(device0)\n",
    "        count+=1\n",
    "        \n",
    "        output = model(x25.to(device0),x5.to(device0),x10.to(device0))\n",
    "        z=torch.unsqueeze(torch.squeeze(y),0).type('torch.cuda.FloatTensor')\n",
    "        k=torch.unsqueeze(torch.squeeze(output),0)\n",
    "        \n",
    "        loss = criterion(k, z).to(device0)\n",
    "        optimizer.zero_grad()\n",
    "        loss.backward()\n",
    "        optimizer.step()\n",
    "        for j in range(64):\n",
    "            if z[0,j]==0:\n",
    "                if k[0,j]>=0.5:\n",
    "                    FP_count+=1\n",
    "                else:\n",
    "                    TN_count+=1\n",
    "            else:\n",
    "                if k[0,j]>=0.5:\n",
    "                    TP_count+=1\n",
    "                else:\n",
    "                    FN_count+=1\n",
    "        \n",
    "        \n",
    "        cost += loss\n",
    "    \n",
    "        train.set_description(f\"epoch: {epoch+1}/{10000} Step: {count+1} loss : {cost/count:.4f} negative_accuracy: {TN_count/(FP_count+TN_count):.4f} positive_accuracy: {TP_count/(TP_count+FN_count):.4f}\")\n",
    "#validation\n",
    "    count=0\n",
    "    val=tqdm_notebook(validation_dataloader)\n",
    "    TP_count=1\n",
    "    FP_count=1\n",
    "    TN_count=1\n",
    "    val_cost=0\n",
    "    FN_count=1\n",
    "    model.eval()\n",
    "    with torch.no_grad():\n",
    "        for x25,x5,x10, y in val:\n",
    "            y = y.to(device0)\n",
    "            count+=1\n",
    "            \n",
    "            output = model(x25.to(device0),x5.to(device0),x10.to(device0))\n",
    "            z=torch.unsqueeze(torch.squeeze(y),0).type('torch.cuda.FloatTensor')\n",
    "            k=torch.unsqueeze(torch.squeeze(output),0)\n",
    "            \n",
    "            loss = criterion(k, z).to(device0)\n",
    "            for j in range(16):\n",
    "                if z[0,j]==0:\n",
    "                    if k[0,j]>=0.5:\n",
    "                        FP_count+=1\n",
    "                    else:\n",
    "                        TN_count+=1\n",
    "                else:\n",
    "                    if k[0,j]>=0.5:\n",
    "                        TP_count+=1\n",
    "                    else:\n",
    "                        FN_count+=1\n",
    "            val_cost += loss\n",
    "            val.set_description(f\"Validation epoch: {epoch+1}/{10000} Step: {count+1} loss : {val_cost/count:.4f} negative_accuracy: {TN_count/(FP_count+TN_count):.4f} positive_accuracy: {TP_count/(TP_count+FN_count):.4f}\")\n",
    "\n",
    "    if MIN_loss<(TP_count/(TP_count+FN_count)):\n",
    "        torch.save(model.state_dict(), '../../model/3Division_class/call_back.pt')\n",
    "        MIN_loss=TP_count/(TP_count+FN_count)\n",
    "        \n"
   ]
  }
 ],
 "metadata": {
  "kernelspec": {
   "display_name": "LeeYS",
   "language": "python",
   "name": "python3"
  },
  "language_info": {
   "codemirror_mode": {
    "name": "ipython",
    "version": 3
   },
   "file_extension": ".py",
   "mimetype": "text/x-python",
   "name": "python",
   "nbconvert_exporter": "python",
   "pygments_lexer": "ipython3",
   "version": "3.9.0"
  },
  "orig_nbformat": 4
 },
 "nbformat": 4,
 "nbformat_minor": 2
}
