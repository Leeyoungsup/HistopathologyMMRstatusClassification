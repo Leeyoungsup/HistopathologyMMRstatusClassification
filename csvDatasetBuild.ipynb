{
 "cells": [
  {
   "cell_type": "code",
   "execution_count": 2,
   "metadata": {},
   "outputs": [],
   "source": [
    "import pandas as pd \n",
    "import numpy as np \n",
    "import json\n",
    "from copy import copy\n",
    "from glob import glob\n",
    "import os"
   ]
  },
  {
   "cell_type": "code",
   "execution_count": 3,
   "metadata": {},
   "outputs": [
    {
     "name": "stderr",
     "output_type": "stream",
     "text": [
      "/tmp/ipykernel_1094399/169362820.py:1: FutureWarning: Inferring datetime64[ns] from data containing strings is deprecated and will be removed in a future version. To retain the old behavior explicitly pass Series(data, dtype=datetime64[ns])\n",
      "  csv_data=pd.read_excel('../../data/OriginalData/가천대길병원 자궁내막암 데이터.xlsx')\n",
      "/tmp/ipykernel_1094399/169362820.py:9: SettingWithCopyWarning: \n",
      "A value is trying to be set on a copy of a slice from a DataFrame\n",
      "\n",
      "See the caveats in the documentation: https://pandas.pydata.org/pandas-docs/stable/user_guide/indexing.html#returning-a-view-versus-a-copy\n",
      "  csv_data['병리번호'][i]=dst_pathology_number\n"
     ]
    }
   ],
   "source": [
    "csv_data=pd.read_excel('../../data/OriginalData/가천대길병원 자궁내막암 데이터.xlsx')\n",
    "for i in range(len(csv_data['병리번호'])):\n",
    "    pathology_number=copy(csv_data['병리번호'][i])\n",
    "    dst_pathology_number=copy(pathology_number)\n",
    "    if pathology_number[1]==' ':\n",
    "        dst_pathology_number=pathology_number[0]+pathology_number[2:4]+'-'+pathology_number[-5:]\n",
    "    else:\n",
    "        dst_pathology_number=pathology_number[0]+pathology_number[1:3]+'-'+pathology_number[-5:]\n",
    "    csv_data['병리번호'][i]=dst_pathology_number\n",
    "    \n",
    "csv_data=csv_data.drop(columns=['등록번호','Molecular subtype','*Operation','*Diagnosis']) # 불필요 및 상호관계 데이터 제거\n",
    "csv_data.drop(csv_data[(csv_data['Subtype(1,endometrioid;2,serous;3,clear;4mixed;5etc;6MMMT)'])!=1].index, inplace=True) \n",
    "csv_data.rename(columns={'병리번호':'PathologyNumber'},inplace=True)\n",
    "csv_data.rename(columns={'접수일자':'RecriptDate'},inplace=True)"
   ]
  },
  {
   "cell_type": "code",
   "execution_count": 4,
   "metadata": {},
   "outputs": [],
   "source": [
    "csv_p53_and_MMR=copy(csv_data)\n",
    "csv_p53=copy(csv_data)\n",
    "csv_MMR=copy(csv_data)\n",
    "csv_p53_and_MMR.drop(csv_p53_and_MMR[(csv_MMR['MMR status'].isna())|(csv_p53_and_MMR['MMR status']=='Null')|(csv_p53_and_MMR['MMR status']=='Mixed')|(csv_p53_and_MMR['MMR status']=='x')|(csv_p53['P53'].isna())|(csv_p53_and_MMR['P53']=='x')|(csv_p53_and_MMR['P53']=='Mixed')|(csv_p53_and_MMR['P53']=='Admixed')|(csv_p53_and_MMR['P53']=='Null')].index, inplace=True)\n",
    "csv_p53.drop(csv_p53[(csv_p53['P53'].isna())|(csv_p53_and_MMR['P53']=='x')|(csv_p53_and_MMR['P53']=='Mixed')|(csv_p53_and_MMR['P53']=='Admixed')|(csv_p53_and_MMR['P53']=='Null')].index, inplace=True)\n",
    "csv_MMR.drop(csv_MMR[(csv_MMR['MMR status'].isna())|(csv_p53_and_MMR['MMR status']=='Null')|(csv_p53_and_MMR['MMR status']=='Admixed')|(csv_p53_and_MMR['MMR status']=='x')].index, inplace=True)"
   ]
  },
  {
   "cell_type": "code",
   "execution_count": 5,
   "metadata": {},
   "outputs": [],
   "source": [
    "svs_file_path=glob('../../data/OriginalData/svs/*.svs')\n",
    "xml_file_path=glob('../../data/OriginalData/xml/*.xml')\n",
    "svs_file_name=[]\n",
    "xml_file_name=[]\n",
    "svs_index=[]\n",
    "xml_index=[]"
   ]
  },
  {
   "cell_type": "code",
   "execution_count": 6,
   "metadata": {},
   "outputs": [],
   "source": [
    "for i in range(len(svs_file_path)):\n",
    "    svs_file_name.append(os.path.basename(os.path.splitext(svs_file_path[i])[0]))\n",
    "for i in range(len(xml_file_path)):\n",
    "    xml_file_name.append(os.path.basename(os.path.splitext(xml_file_path[i])[0]))"
   ]
  },
  {
   "cell_type": "code",
   "execution_count": 7,
   "metadata": {},
   "outputs": [],
   "source": [
    "set1=list(set(svs_file_name)-set(xml_file_name))\n",
    "set2=list(set(xml_file_name)-set(svs_file_name))\n",
    "for i in range(len(set1)):\n",
    "    file=svs_file_path[svs_file_name.index(set1[i])]\n",
    "    os.remove(file)\n",
    "for i in range(len(set2)):\n",
    "    file=xml_file_path[xml_file_name.index(set2[i])]\n",
    "    os.remove(file)"
   ]
  },
  {
   "cell_type": "code",
   "execution_count": 8,
   "metadata": {},
   "outputs": [],
   "source": [
    "os.path.splitext(svs_file_path[i])[0]"
   ]
  },
  {
   "cell_type": "code",
   "execution_count": 9,
   "metadata": {},
   "outputs": [],
   "source": [
    "csv_p53_and_MMR.to_csv('../../data/OriginalData/P53&MMR.csv',index=False)\n",
    "csv_p53.to_csv('../../data/OriginalData/P53.csv',index=False)\n",
    "csv_MMR.to_csv('../../data/OriginalData/MMR.csv',index=False)"
   ]
  }
 ],
 "metadata": {
  "kernelspec": {
   "display_name": "LeeYS_torch",
   "language": "python",
   "name": "python3"
  },
  "language_info": {
   "codemirror_mode": {
    "name": "ipython",
    "version": 3
   },
   "file_extension": ".py",
   "mimetype": "text/x-python",
   "name": "python",
   "nbconvert_exporter": "python",
   "pygments_lexer": "ipython3",
   "version": "3.9.15"
  },
  "orig_nbformat": 4
 },
 "nbformat": 4,
 "nbformat_minor": 2
}
