{
 "cells": [
  {
   "cell_type": "code",
   "execution_count": 16,
   "metadata": {},
   "outputs": [],
   "source": [
    "import cv2\n",
    "import numpy as np \n",
    "import pandas as pd \n",
    "from glob import glob\n",
    "import os\n",
    "from copy import copy\n",
    "from PIL import Image\n",
    "from sklearn.model_selection import train_test_split\n",
    "import random\n",
    "os.environ[\"CUDA_VISIBLE_DEVICES\"] = \"1,2,3\""
   ]
  },
  {
   "cell_type": "code",
   "execution_count": 11,
   "metadata": {},
   "outputs": [],
   "source": [
    "img_list=glob('../../data/360umTile/*.jpg')\n",
    "img_slidename_list=copy(img_list)\n",
    "for i in range(len(img_list)):\n",
    "    img_slidename_list[i]=os.path.basename(img_list[i])[:9]\n",
    "label=pd.read_csv('../../data/P53&MMR.csv')\n",
    "img_index_list=[]\n",
    "for j in range(len(label['PathologyNumber'])):\n",
    "    img_index_list.append([i for i, ele in enumerate(img_slidename_list) if ele == label['PathologyNumber'][j]])\n",
    "label_list=copy(label['MMR status'].to_list())\n",
    "for i in range(len(label_list)):\n",
    "    if label_list[i]==\"Defect\":\n",
    "        label_list[i]=1\n",
    "    else:\n",
    "        label_list[i]=0"
   ]
  },
  {
   "cell_type": "code",
   "execution_count": 12,
   "metadata": {},
   "outputs": [],
   "source": [
    "x_train,x_test,y_train,y_test=train_test_split(img_index_list,label_list, test_size=0.1, random_state=42)"
   ]
  },
  {
   "cell_type": "code",
   "execution_count": 56,
   "metadata": {},
   "outputs": [],
   "source": [
    "list_x_train,list_x_test,list_y_train,list_y_test=[],[],[],[]\n",
    "for i in range(len(x_train)):\n",
    "    x_list=[]\n",
    "    if len(x_train[i])>100:                                  \n",
    "        for k in range(100):\n",
    "            a = random.randint(x_train[i][0],x_train[i][len(x_train[i])-1])       \n",
    "            while a in x_list :              # a가 이미 뽑은 리스트에 있을 때까지 다시 뽑자\n",
    "                a = random.randint(x_train[i][0],x_train[i][len(x_train[i])-1])\n",
    "            x_list.append(a) # 새로운 a 값을 리스트에 추가\n",
    "    else:\n",
    "        x_list=copy(x_train[i])\n",
    "    for j in x_list:\n",
    "        list_x_train.append(img_list[j])\n",
    "        list_y_train.append(y_train[i])\n",
    "        \n",
    "for i in range(len(x_test)):\n",
    "    x_list=[]\n",
    "    if len(x_test[i])>100:                                  \n",
    "        for k in range(100):\n",
    "            a = random.randint(x_test[i][0],x_test[i][len(x_test[i])-1])       \n",
    "            while a in x_list :              # a가 이미 뽑은 리스트에 있을 때까지 다시 뽑자\n",
    "                a = random.randint(x_test[i][0],x_test[i][len(x_test[i])-1])\n",
    "            x_list.append(a) # 새로운 a 값을 리스트에 추가\n",
    "    else:\n",
    "        x_list=copy(x_test[i])\n",
    "    for j in x_list:\n",
    "        list_x_test.append(img_list[j])\n",
    "        list_y_test.append(y_test[i])\n",
    "    "
   ]
  },
  {
   "cell_type": "code",
   "execution_count": 75,
   "metadata": {},
   "outputs": [],
   "source": [
    "img_size=224\n",
    "x_train=np.zeros((len(list_x_train),img_size,img_size,3))\n",
    "x_test=np.zeros((len(list_x_test),img_size,img_size,3))\n",
    "y_train=np.zeros((len(list_y_train),1),dtype=np.int16)\n",
    "y_test=np.zeros((len(list_y_test),1),dtype=np.int16)\n",
    "\n",
    "for i in range(len(list_x_train)):\n",
    "    x_train[i]=Image.open(list_x_train[i])\n",
    "    y_train[i]=list_y_train[i]\n",
    "\n",
    "for i in range(len(list_x_test)):\n",
    "    x_test[i]=Image.open(list_x_test[i])\n",
    "    y_test[i]=list_y_test[i]"
   ]
  },
  {
   "cell_type": "code",
   "execution_count": 74,
   "metadata": {},
   "outputs": [
    {
     "data": {
      "text/plain": [
       "(28936, 224, 224, 3)"
      ]
     },
     "execution_count": 74,
     "metadata": {},
     "output_type": "execute_result"
    }
   ],
   "source": []
  }
 ],
 "metadata": {
  "kernelspec": {
   "display_name": "LeeYS",
   "language": "python",
   "name": "python3"
  },
  "language_info": {
   "codemirror_mode": {
    "name": "ipython",
    "version": 3
   },
   "file_extension": ".py",
   "mimetype": "text/x-python",
   "name": "python",
   "nbconvert_exporter": "python",
   "pygments_lexer": "ipython3",
   "version": "3.9.15"
  },
  "orig_nbformat": 4
 },
 "nbformat": 4,
 "nbformat_minor": 2
}
