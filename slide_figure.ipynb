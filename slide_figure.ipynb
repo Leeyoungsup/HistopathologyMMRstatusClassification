{
 "cells": [
  {
   "cell_type": "code",
   "execution_count": 2,
   "metadata": {},
   "outputs": [],
   "source": [
    "import numpy as np\n",
    "import slideio\n",
    "import cv2\n",
    "import json\n",
    "import matplotlib.path as mpltPath\n",
    "import os\n",
    "import warnings\n",
    "import tifffile\n",
    "from skimage import exposure\n",
    "from skimage.exposure import match_histograms\n",
    "import xml.etree.ElementTree as ET\n",
    "import pandas as pd\n",
    "from PIL import Image\n",
    "from math import sqrt\n",
    "import matplotlib.pyplot as plt\n",
    "from glob import glob\n",
    "from copy import copy\n",
    "from tqdm.notebook import tqdm\n",
    "import warnings\n",
    "import staintools\n",
    "\n",
    "# 경고 메시지를 무시하도록 설정s\n",
    "warnings.filterwarnings(\"ignore\")"
   ]
  },
  {
   "cell_type": "code",
   "execution_count": 4,
   "metadata": {},
   "outputs": [
    {
     "name": "stderr",
     "output_type": "stream",
     "text": [
      "JPEGFixupTagsSubsamplingSec: Warning, Auto-corrected former TIFF subsampling values [2,2] to match subsampling values inside JPEG compressed data [2,1].\n",
      "JPEGFixupTagsSubsamplingSec: Warning, Auto-corrected former TIFF subsampling values [2,2] to match subsampling values inside JPEG compressed data [2,1].\n",
      "JPEGFixupTagsSubsamplingSec: Warning, Auto-corrected former TIFF subsampling values [2,2] to match subsampling values inside JPEG compressed data [2,1].\n",
      "JPEGFixupTagsSubsamplingSec: Warning, Auto-corrected former TIFF subsampling values [2,2] to match subsampling values inside JPEG compressed data [2,1].\n"
     ]
    },
    {
     "data": {
      "text/plain": [
       "True"
      ]
     },
     "execution_count": 4,
     "metadata": {},
     "output_type": "execute_result"
    }
   ],
   "source": [
    "img_width,img_height=4096,4096\n",
    "\n",
    "slide = slideio.open_slide('../../data/OriginalData/svs/S20-08097-8.svs', \"SVS\")\n",
    "num_scenes = slide.num_scenes\n",
    "scene = slide.get_scene(0)\n",
    "svsWidth = scene.rect[2]\n",
    "svsHeight = scene.rect[3]\n",
    "slide_block = scene.read_block((0, 0, svsWidth, svsHeight),size=(int(img_width), int(img_height)))\n",
    "image=cv2.cvtColor(slide_block, cv2.COLOR_BGR2RGB)\n",
    "cv2.imwrite('../../data/figure/thumnail.tiff', image)\n",
    "    "
   ]
  },
  {
   "cell_type": "code",
   "execution_count": null,
   "metadata": {},
   "outputs": [],
   "source": [
    "try:\n",
    "        file_extension_index=svs_files[i].find('.svs')\n",
    "        fileName=os.path.basename(os.path.splitext(svs_files[i])[0])\n",
    "        slide = slideio.open_slide(svs_files[i], \"SVS\")\n",
    "        scene = slide.get_scene(0)\n",
    "        svsWidth = scene.rect[2]\n",
    "        svsHeight = scene.rect[3]\n",
    "        imageCount=0\n",
    "        magnification=80\n",
    "        tile_size=256\n",
    "        xml_open=xml_files[i]\n",
    "        polygon_xml = ET.parse(xml_open)\n",
    "        root = polygon_xml.getroot()\n",
    "        root=list(root)[0]\n",
    "        root=list(root)\n",
    "        imageCount=0\n",
    "        for annotation_count in range(len(root)):\n",
    "            root1 =list(root[annotation_count])[0]\n",
    "            polygon=[]\n",
    "            for polygon_count in root1.iter('Coordinate'): \n",
    "                polygon.append([int(float(polygon_count.attrib['X'])),int(float(polygon_count.attrib['Y']))])\n",
    "            path = mpltPath.Path(polygon)\n",
    "            imageCount=svsToTiff(imageCount)\n",
    "    except:\n",
    "        file_extension_index=svs_files[i].find('.svs')\n",
    "        fileName=svs_files[i][:file_extension_index]\n",
    "        print(fileName)"
   ]
  }
 ],
 "metadata": {
  "kernelspec": {
   "display_name": "LeeYS",
   "language": "python",
   "name": "python3"
  },
  "language_info": {
   "codemirror_mode": {
    "name": "ipython",
    "version": 3
   },
   "file_extension": ".py",
   "mimetype": "text/x-python",
   "name": "python",
   "nbconvert_exporter": "python",
   "pygments_lexer": "ipython3",
   "version": "3.9.0"
  },
  "orig_nbformat": 4
 },
 "nbformat": 4,
 "nbformat_minor": 2
}
