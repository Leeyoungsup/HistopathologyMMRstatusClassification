{
 "cells": [
  {
   "cell_type": "code",
   "execution_count": 2,
   "metadata": {},
   "outputs": [],
   "source": [
    "import numpy as np\n",
    "import slideio\n",
    "import cv2\n",
    "import json\n",
    "import matplotlib.path as mpltPath\n",
    "import os\n",
    "import warnings\n",
    "import tifffile\n",
    "import staintools\n",
    "from skimage import exposure\n",
    "from skimage.exposure import match_histograms\n",
    "import xml.etree.ElementTree as ET\n",
    "import pandas as pd\n",
    "from math import sqrt\n",
    "import matplotlib.pyplot as plt\n",
    "from glob import glob"
   ]
  },
  {
   "cell_type": "code",
   "execution_count": 3,
   "metadata": {},
   "outputs": [],
   "source": [
    "MMRstatus_data=pd.read_csv('../../data/OriginalData/P53&MMR.csv',encoding='cp949')\n",
    "def svsToTiff(imageCount):\n",
    "    global svsWidth,svsHeight,path,scene,fileName\n",
    "    slide_tile_size=2048\n",
    "    for widthCount in range(0, int(svsWidth // slide_tile_size)):\n",
    "        for heightCount in range(0, int(svsHeight // slide_tile_size)):\n",
    "            points = np.array([path.contains_point(np.array([widthCount* slide_tile_size, heightCount* slide_tile_size])), path.contains_point(np.array([widthCount* slide_tile_size, (heightCount+1)* slide_tile_size])), \n",
    "                                 path.contains_point(np.array([(widthCount+1)* slide_tile_size, heightCount* slide_tile_size])),\n",
    "                                path.contains_point(np.array([(widthCount+1)* slide_tile_size, (heightCount+1)* slide_tile_size]))])\n",
    "            inside = np.mean(points)>0\n",
    "            Full=np.mean(points)>0\n",
    "            if (inside):\n",
    "                image = scene.read_block((widthCount * slide_tile_size, heightCount * slide_tile_size, slide_tile_size, slide_tile_size),size=(256,256))\n",
    "                if np.where(image[:,:,1]>=230)[0].shape[0]<(256*256)/4:\n",
    "                    image = cv2.cvtColor(image, cv2.COLOR_BGR2RGB)\n",
    "                    TiffImageSave(image, fileName, imageCount,slide_tile_size)\n",
    "                    imageCount += 1\n",
    "            \n",
    "    return imageCount\n",
    "def TiffImageSave(image1,fileName,imageCount,slide_tile_size):\n",
    "    global normalizer2x,normalizer5x,normalizer10x,tmp_img \n",
    "    cv2.imwrite('../../data/OriginalTile/'+ fileName + \"_\" + str(\n",
    "        imageCount)+ '.tiff', image1)\n",
    "def createDirectory(directory):\n",
    "    try:\n",
    "        if not os.path.exists(directory):\n",
    "            os.makedirs(directory)\n",
    "    except OSError:\n",
    "        print(\"Error: Failed to create the directory.\")    \n",
    "    "
   ]
  },
  {
   "cell_type": "code",
   "execution_count": 4,
   "metadata": {},
   "outputs": [],
   "source": [
    "svs_files=glob('../../data/OriginalData/svs/*.svs')\n",
    "\n",
    "xml_files = [f.replace('/svs', '/xml') for f in svs_files]\n",
    "xml_files = [f.replace('.svs', '.xml') for f in xml_files ]"
   ]
  },
  {
   "cell_type": "code",
   "execution_count": 94,
   "metadata": {},
   "outputs": [
    {
     "name": "stderr",
     "output_type": "stream",
     "text": [
      "JPEGFixupTagsSubsamplingSec: Warning, Auto-corrected former TIFF subsampling values [2,2] to match subsampling values inside JPEG compressed data [2,1].\n",
      "JPEGFixupTagsSubsamplingSec: Warning, Auto-corrected former TIFF subsampling values [2,2] to match subsampling values inside JPEG compressed data [2,1].\n",
      "JPEGFixupTagsSubsamplingSec: Warning, Auto-corrected former TIFF subsampling values [2,2] to match subsampling values inside JPEG compressed data [2,1].\n",
      "JPEGFixupTagsSubsamplingSec: Warning, Auto-corrected former TIFF subsampling values [2,2] to match subsampling values inside JPEG compressed data [2,1].\n",
      "JPEGFixupTagsSubsamplingSec: Warning, Auto-corrected former TIFF subsampling values [2,2] to match subsampling values inside JPEG compressed data [2,1].\n",
      "JPEGFixupTagsSubsamplingSec: Warning, Auto-corrected former TIFF subsampling values [2,2] to match subsampling values inside JPEG compressed data [2,1].\n",
      "JPEGFixupTagsSubsamplingSec: Warning, Auto-corrected former TIFF subsampling values [2,2] to match subsampling values inside JPEG compressed data [2,1].\n",
      "JPEGFixupTagsSubsamplingSec: Warning, Auto-corrected former TIFF subsampling values [2,2] to match subsampling values inside JPEG compressed data [2,1].\n"
     ]
    },
    {
     "ename": "KeyboardInterrupt",
     "evalue": "",
     "output_type": "error",
     "traceback": [
      "\u001b[0;31m---------------------------------------------------------------------------\u001b[0m",
      "\u001b[0;31mKeyboardInterrupt\u001b[0m                         Traceback (most recent call last)",
      "\u001b[1;32m/home/gil/gcubme_ai2/Workspace/YS_Lee/gcu_pathlogy/code/HistopathologyMMRstatusClassification/PolygonToTile.ipynb 셀 6\u001b[0m in \u001b[0;36m<cell line: 1>\u001b[0;34m()\u001b[0m\n\u001b[1;32m     <a href='vscode-notebook-cell://ssh-remote%2B7b22686f73744e616d65223a2231302e322e35322e3638222c2275736572223a2267696c227d/home/gil/gcubme_ai2/Workspace/YS_Lee/gcu_pathlogy/code/HistopathologyMMRstatusClassification/PolygonToTile.ipynb#W5sdnNjb2RlLXJlbW90ZQ%3D%3D?line=21'>22</a>\u001b[0m     polygon\u001b[39m.\u001b[39mappend([\u001b[39mint\u001b[39m(\u001b[39mfloat\u001b[39m(polygon_count\u001b[39m.\u001b[39mattrib[\u001b[39m'\u001b[39m\u001b[39mX\u001b[39m\u001b[39m'\u001b[39m])),\u001b[39mint\u001b[39m(\u001b[39mfloat\u001b[39m(polygon_count\u001b[39m.\u001b[39mattrib[\u001b[39m'\u001b[39m\u001b[39mY\u001b[39m\u001b[39m'\u001b[39m]))])\n\u001b[1;32m     <a href='vscode-notebook-cell://ssh-remote%2B7b22686f73744e616d65223a2231302e322e35322e3638222c2275736572223a2267696c227d/home/gil/gcubme_ai2/Workspace/YS_Lee/gcu_pathlogy/code/HistopathologyMMRstatusClassification/PolygonToTile.ipynb#W5sdnNjb2RlLXJlbW90ZQ%3D%3D?line=22'>23</a>\u001b[0m path \u001b[39m=\u001b[39m mpltPath\u001b[39m.\u001b[39mPath(polygon)\n\u001b[0;32m---> <a href='vscode-notebook-cell://ssh-remote%2B7b22686f73744e616d65223a2231302e322e35322e3638222c2275736572223a2267696c227d/home/gil/gcubme_ai2/Workspace/YS_Lee/gcu_pathlogy/code/HistopathologyMMRstatusClassification/PolygonToTile.ipynb#W5sdnNjb2RlLXJlbW90ZQ%3D%3D?line=23'>24</a>\u001b[0m imageCount\u001b[39m=\u001b[39msvsToTiff(imageCount)\n",
      "\u001b[1;32m/home/gil/gcubme_ai2/Workspace/YS_Lee/gcu_pathlogy/code/HistopathologyMMRstatusClassification/PolygonToTile.ipynb 셀 6\u001b[0m in \u001b[0;36msvsToTiff\u001b[0;34m(imageCount)\u001b[0m\n\u001b[1;32m     <a href='vscode-notebook-cell://ssh-remote%2B7b22686f73744e616d65223a2231302e322e35322e3638222c2275736572223a2267696c227d/home/gil/gcubme_ai2/Workspace/YS_Lee/gcu_pathlogy/code/HistopathologyMMRstatusClassification/PolygonToTile.ipynb#W5sdnNjb2RlLXJlbW90ZQ%3D%3D?line=13'>14</a>\u001b[0m             \u001b[39mif\u001b[39;00m np\u001b[39m.\u001b[39mwhere(image[:,:,\u001b[39m1\u001b[39m]\u001b[39m>\u001b[39m\u001b[39m=\u001b[39m\u001b[39m230\u001b[39m)[\u001b[39m0\u001b[39m]\u001b[39m.\u001b[39mshape[\u001b[39m0\u001b[39m]\u001b[39m<\u001b[39m(\u001b[39m256\u001b[39m\u001b[39m*\u001b[39m\u001b[39m256\u001b[39m)\u001b[39m/\u001b[39m\u001b[39m4\u001b[39m:\n\u001b[1;32m     <a href='vscode-notebook-cell://ssh-remote%2B7b22686f73744e616d65223a2231302e322e35322e3638222c2275736572223a2267696c227d/home/gil/gcubme_ai2/Workspace/YS_Lee/gcu_pathlogy/code/HistopathologyMMRstatusClassification/PolygonToTile.ipynb#W5sdnNjb2RlLXJlbW90ZQ%3D%3D?line=14'>15</a>\u001b[0m                 image \u001b[39m=\u001b[39m cv2\u001b[39m.\u001b[39mcvtColor(image, cv2\u001b[39m.\u001b[39mCOLOR_BGR2RGB)\n\u001b[0;32m---> <a href='vscode-notebook-cell://ssh-remote%2B7b22686f73744e616d65223a2231302e322e35322e3638222c2275736572223a2267696c227d/home/gil/gcubme_ai2/Workspace/YS_Lee/gcu_pathlogy/code/HistopathologyMMRstatusClassification/PolygonToTile.ipynb#W5sdnNjb2RlLXJlbW90ZQ%3D%3D?line=15'>16</a>\u001b[0m                 TiffImageSave(image, fileName, imageCount,slide_tile_size)\n\u001b[1;32m     <a href='vscode-notebook-cell://ssh-remote%2B7b22686f73744e616d65223a2231302e322e35322e3638222c2275736572223a2267696c227d/home/gil/gcubme_ai2/Workspace/YS_Lee/gcu_pathlogy/code/HistopathologyMMRstatusClassification/PolygonToTile.ipynb#W5sdnNjb2RlLXJlbW90ZQ%3D%3D?line=16'>17</a>\u001b[0m                 imageCount \u001b[39m+\u001b[39m\u001b[39m=\u001b[39m \u001b[39m1\u001b[39m\n\u001b[1;32m     <a href='vscode-notebook-cell://ssh-remote%2B7b22686f73744e616d65223a2231302e322e35322e3638222c2275736572223a2267696c227d/home/gil/gcubme_ai2/Workspace/YS_Lee/gcu_pathlogy/code/HistopathologyMMRstatusClassification/PolygonToTile.ipynb#W5sdnNjb2RlLXJlbW90ZQ%3D%3D?line=18'>19</a>\u001b[0m \u001b[39mreturn\u001b[39;00m imageCount\n",
      "\u001b[1;32m/home/gil/gcubme_ai2/Workspace/YS_Lee/gcu_pathlogy/code/HistopathologyMMRstatusClassification/PolygonToTile.ipynb 셀 6\u001b[0m in \u001b[0;36mTiffImageSave\u001b[0;34m(image1, fileName, imageCount, slide_tile_size)\u001b[0m\n\u001b[1;32m     <a href='vscode-notebook-cell://ssh-remote%2B7b22686f73744e616d65223a2231302e322e35322e3638222c2275736572223a2267696c227d/home/gil/gcubme_ai2/Workspace/YS_Lee/gcu_pathlogy/code/HistopathologyMMRstatusClassification/PolygonToTile.ipynb#W5sdnNjb2RlLXJlbW90ZQ%3D%3D?line=19'>20</a>\u001b[0m \u001b[39mdef\u001b[39;00m \u001b[39mTiffImageSave\u001b[39m(image1,fileName,imageCount,slide_tile_size):\n\u001b[1;32m     <a href='vscode-notebook-cell://ssh-remote%2B7b22686f73744e616d65223a2231302e322e35322e3638222c2275736572223a2267696c227d/home/gil/gcubme_ai2/Workspace/YS_Lee/gcu_pathlogy/code/HistopathologyMMRstatusClassification/PolygonToTile.ipynb#W5sdnNjb2RlLXJlbW90ZQ%3D%3D?line=20'>21</a>\u001b[0m     \u001b[39mglobal\u001b[39;00m normalizer2x,normalizer5x,normalizer10x,tmp_img \n\u001b[0;32m---> <a href='vscode-notebook-cell://ssh-remote%2B7b22686f73744e616d65223a2231302e322e35322e3638222c2275736572223a2267696c227d/home/gil/gcubme_ai2/Workspace/YS_Lee/gcu_pathlogy/code/HistopathologyMMRstatusClassification/PolygonToTile.ipynb#W5sdnNjb2RlLXJlbW90ZQ%3D%3D?line=21'>22</a>\u001b[0m     cv2\u001b[39m.\u001b[39;49mimwrite(\u001b[39m'\u001b[39;49m\u001b[39m../../data/OriginalTile/\u001b[39;49m\u001b[39m'\u001b[39;49m\u001b[39m+\u001b[39;49m fileName \u001b[39m+\u001b[39;49m \u001b[39m\"\u001b[39;49m\u001b[39m_\u001b[39;49m\u001b[39m\"\u001b[39;49m \u001b[39m+\u001b[39;49m \u001b[39mstr\u001b[39;49m(\n\u001b[1;32m     <a href='vscode-notebook-cell://ssh-remote%2B7b22686f73744e616d65223a2231302e322e35322e3638222c2275736572223a2267696c227d/home/gil/gcubme_ai2/Workspace/YS_Lee/gcu_pathlogy/code/HistopathologyMMRstatusClassification/PolygonToTile.ipynb#W5sdnNjb2RlLXJlbW90ZQ%3D%3D?line=22'>23</a>\u001b[0m         imageCount)\u001b[39m+\u001b[39;49m \u001b[39m'\u001b[39;49m\u001b[39m.tiff\u001b[39;49m\u001b[39m'\u001b[39;49m, image1)\n",
      "\u001b[0;31mKeyboardInterrupt\u001b[0m: "
     ]
    }
   ],
   "source": [
    "for i in range(len(svs_files)):\n",
    "    try:\n",
    "        file_extension_index=svs_files[i].find('.svs')\n",
    "        fileName=os.path.basename(os.path.splitext(svs_files[i])[0])\n",
    "        slide = slideio.open_slide(svs_files[i], \"SVS\")\n",
    "        scene = slide.get_scene(0)\n",
    "        svsWidth = scene.rect[2]\n",
    "        svsHeight = scene.rect[3]\n",
    "        imageCount=0\n",
    "        magnification=80\n",
    "        tile_size=256\n",
    "        xml_open=xml_files[i]\n",
    "        polygon_xml = ET.parse(xml_open)\n",
    "        root = polygon_xml.getroot()\n",
    "        root=list(root)[0]\n",
    "        root=list(root)\n",
    "        imageCount=0\n",
    "        for annotation_count in range(len(root)):\n",
    "            root1 =list(root[0])[0]\n",
    "            polygon=[]\n",
    "            for polygon_count in list(root[0])[0].iter('Coordinate'): \n",
    "                polygon.append([int(float(polygon_count.attrib['X'])),int(float(polygon_count.attrib['Y']))])\n",
    "            path = mpltPath.Path(polygon)\n",
    "            imageCount=svsToTiff(imageCount)\n",
    "    except:\n",
    "        file_extension_index=svs_files[i].find('.svs')\n",
    "        fileName=svs_files[i][:file_extension_index]\n",
    "        print(fileName)"
   ]
  }
 ],
 "metadata": {
  "kernelspec": {
   "display_name": "LeeYS_tf210",
   "language": "python",
   "name": "python3"
  },
  "language_info": {
   "codemirror_mode": {
    "name": "ipython",
    "version": 3
   },
   "file_extension": ".py",
   "mimetype": "text/x-python",
   "name": "python",
   "nbconvert_exporter": "python",
   "pygments_lexer": "ipython3",
   "version": "3.9.15"
  },
  "orig_nbformat": 4
 },
 "nbformat": 4,
 "nbformat_minor": 2
}
